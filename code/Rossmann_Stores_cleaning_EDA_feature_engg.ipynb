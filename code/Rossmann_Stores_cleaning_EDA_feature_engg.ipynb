{
  "nbformat": 4,
  "nbformat_minor": 0,
  "metadata": {
    "kernelspec": {
      "display_name": "Python 3",
      "language": "python",
      "name": "python3"
    },
    "language_info": {
      "codemirror_mode": {
        "name": "ipython",
        "version": 3
      },
      "file_extension": ".py",
      "mimetype": "text/x-python",
      "name": "python",
      "nbconvert_exporter": "python",
      "pygments_lexer": "ipython3",
      "version": "3.8.5"
    },
    "colab": {
      "name": "Rossmann Stores cleaning, EDA, feature engg.ipynb",
      "provenance": [],
      "collapsed_sections": []
    }
  },
  "cells": [
    {
      "cell_type": "markdown",
      "metadata": {
        "id": "HtuzByF7BaeB"
      },
      "source": [
        "# Getting Started"
      ]
    },
    {
      "cell_type": "code",
      "metadata": {
        "_cell_guid": "33dccb4a-c8c6-42c3-865e-33a28c19d05e",
        "_uuid": "e9e021a5-f571-4eb9-89c9-09bc9eba5152",
        "id": "O9oLImF-BaeC"
      },
      "source": [
        "#import required libraries\n",
        "from sklearn.model_selection import train_test_split \n",
        "from sklearn.linear_model import LinearRegression\n",
        "from sklearn import preprocessing\n",
        "import numpy as np \n",
        "import pandas as pd \n",
        "import matplotlib.pyplot as plt\n",
        "import seaborn as sns\n",
        "%matplotlib inline"
      ],
      "execution_count": 1,
      "outputs": []
    },
    {
      "cell_type": "code",
      "metadata": {
        "colab": {
          "base_uri": "https://localhost:8080/"
        },
        "id": "Iq7GxcdOb4QN",
        "outputId": "6203a056-bb2c-4363-d562-ae07d4528d2c"
      },
      "source": [
        "from google.colab import drive\n",
        "drive.mount('/content/drive')"
      ],
      "execution_count": 2,
      "outputs": [
        {
          "output_type": "stream",
          "text": [
            "Drive already mounted at /content/drive; to attempt to forcibly remount, call drive.mount(\"/content/drive\", force_remount=True).\n"
          ],
          "name": "stdout"
        }
      ]
    },
    {
      "cell_type": "code",
      "metadata": {
        "id": "dPZZmPi3BaeG",
        "colab": {
          "base_uri": "https://localhost:8080/"
        },
        "outputId": "a2607ddf-0605-4328-cc6e-b4409f20e5b1"
      },
      "source": [
        "#reading data files\n",
        "store_df=pd.read_csv(\"/content/drive/My Drive/Colab Notebooks/data/rossmann-store-sales/store.csv\")\n",
        "train_df=pd.read_csv(\"/content/drive/My Drive/Colab Notebooks/data/rossmann-store-sales/train.csv\")"
      ],
      "execution_count": 3,
      "outputs": [
        {
          "output_type": "stream",
          "text": [
            "/usr/local/lib/python3.6/dist-packages/IPython/core/interactiveshell.py:2718: DtypeWarning: Columns (7) have mixed types.Specify dtype option on import or set low_memory=False.\n",
            "  interactivity=interactivity, compiler=compiler, result=result)\n"
          ],
          "name": "stderr"
        }
      ]
    },
    {
      "cell_type": "markdown",
      "metadata": {
        "id": "ZyfBwQNKBaeJ"
      },
      "source": [
        "# Getting to Know your Data"
      ]
    },
    {
      "cell_type": "markdown",
      "metadata": {
        "id": "mTuH_huHBaeJ"
      },
      "source": [
        "Data fields\n",
        "\n",
        "Most of the fields are self-explanatory. The following are descriptions for those that aren't.\n",
        "\n",
        "    Id - an Id that represents a (Store, Date) duple within the test set\n",
        "    Store - a unique Id for each store\n",
        "    Sales - the turnover for any given day (this is what you are predicting)\n",
        "    Customers - the number of customers on a given day\n",
        "    Open - an indicator for whether the store was open: 0 = closed, 1 = open\n",
        "    StateHoliday - indicates a state holiday. Normally all stores, with few exceptions, are closed on state holidays. Note that all schools are closed on public holidays and weekends. a = public holiday, b = Easter holiday, c = Christmas, 0 = None\n",
        "    SchoolHoliday - indicates if the (Store, Date) was affected by the closure of public schools\n",
        "    StoreType - differentiates between 4 different store models: a, b, c, d\n",
        "    Assortment - describes an assortment level: a = basic, b = extra, c = extended\n",
        "    CompetitionDistance - distance in meters to the nearest competitor store\n",
        "    CompetitionOpenSince[Month/Year] - gives the approximate year and month of the time the nearest competitor was opened\n",
        "    Promo - indicates whether a store is running a promo on that day\n",
        "    Promo2 - Promo2 is a continuing and consecutive promotion for some stores: 0 = store is not participating, 1 = store is participating\n",
        "    Promo2Since[Year/Week] - describes the year and calendar week when the store started participating in Promo2\n",
        "    PromoInterval - describes the consecutive intervals Promo2 is started, naming the months the promotion is started anew. E.g. \"Feb,May,Aug,Nov\" means each round starts in February, May, August, November of any given year for that store\n"
      ]
    },
    {
      "cell_type": "code",
      "metadata": {
        "id": "LURhPR_cBaeK",
        "colab": {
          "base_uri": "https://localhost:8080/",
          "height": 195
        },
        "outputId": "130c8c3d-59ac-4da1-c877-3f4acc9ed1cf"
      },
      "source": [
        "store_df.head()"
      ],
      "execution_count": 4,
      "outputs": [
        {
          "output_type": "execute_result",
          "data": {
            "text/html": [
              "<div>\n",
              "<style scoped>\n",
              "    .dataframe tbody tr th:only-of-type {\n",
              "        vertical-align: middle;\n",
              "    }\n",
              "\n",
              "    .dataframe tbody tr th {\n",
              "        vertical-align: top;\n",
              "    }\n",
              "\n",
              "    .dataframe thead th {\n",
              "        text-align: right;\n",
              "    }\n",
              "</style>\n",
              "<table border=\"1\" class=\"dataframe\">\n",
              "  <thead>\n",
              "    <tr style=\"text-align: right;\">\n",
              "      <th></th>\n",
              "      <th>Store</th>\n",
              "      <th>StoreType</th>\n",
              "      <th>Assortment</th>\n",
              "      <th>CompetitionDistance</th>\n",
              "      <th>CompetitionOpenSinceMonth</th>\n",
              "      <th>CompetitionOpenSinceYear</th>\n",
              "      <th>Promo2</th>\n",
              "      <th>Promo2SinceWeek</th>\n",
              "      <th>Promo2SinceYear</th>\n",
              "      <th>PromoInterval</th>\n",
              "    </tr>\n",
              "  </thead>\n",
              "  <tbody>\n",
              "    <tr>\n",
              "      <th>0</th>\n",
              "      <td>1</td>\n",
              "      <td>c</td>\n",
              "      <td>a</td>\n",
              "      <td>1270.0</td>\n",
              "      <td>9.0</td>\n",
              "      <td>2008.0</td>\n",
              "      <td>0</td>\n",
              "      <td>NaN</td>\n",
              "      <td>NaN</td>\n",
              "      <td>NaN</td>\n",
              "    </tr>\n",
              "    <tr>\n",
              "      <th>1</th>\n",
              "      <td>2</td>\n",
              "      <td>a</td>\n",
              "      <td>a</td>\n",
              "      <td>570.0</td>\n",
              "      <td>11.0</td>\n",
              "      <td>2007.0</td>\n",
              "      <td>1</td>\n",
              "      <td>13.0</td>\n",
              "      <td>2010.0</td>\n",
              "      <td>Jan,Apr,Jul,Oct</td>\n",
              "    </tr>\n",
              "    <tr>\n",
              "      <th>2</th>\n",
              "      <td>3</td>\n",
              "      <td>a</td>\n",
              "      <td>a</td>\n",
              "      <td>14130.0</td>\n",
              "      <td>12.0</td>\n",
              "      <td>2006.0</td>\n",
              "      <td>1</td>\n",
              "      <td>14.0</td>\n",
              "      <td>2011.0</td>\n",
              "      <td>Jan,Apr,Jul,Oct</td>\n",
              "    </tr>\n",
              "    <tr>\n",
              "      <th>3</th>\n",
              "      <td>4</td>\n",
              "      <td>c</td>\n",
              "      <td>c</td>\n",
              "      <td>620.0</td>\n",
              "      <td>9.0</td>\n",
              "      <td>2009.0</td>\n",
              "      <td>0</td>\n",
              "      <td>NaN</td>\n",
              "      <td>NaN</td>\n",
              "      <td>NaN</td>\n",
              "    </tr>\n",
              "    <tr>\n",
              "      <th>4</th>\n",
              "      <td>5</td>\n",
              "      <td>a</td>\n",
              "      <td>a</td>\n",
              "      <td>29910.0</td>\n",
              "      <td>4.0</td>\n",
              "      <td>2015.0</td>\n",
              "      <td>0</td>\n",
              "      <td>NaN</td>\n",
              "      <td>NaN</td>\n",
              "      <td>NaN</td>\n",
              "    </tr>\n",
              "  </tbody>\n",
              "</table>\n",
              "</div>"
            ],
            "text/plain": [
              "   Store StoreType  ... Promo2SinceYear    PromoInterval\n",
              "0      1         c  ...             NaN              NaN\n",
              "1      2         a  ...          2010.0  Jan,Apr,Jul,Oct\n",
              "2      3         a  ...          2011.0  Jan,Apr,Jul,Oct\n",
              "3      4         c  ...             NaN              NaN\n",
              "4      5         a  ...             NaN              NaN\n",
              "\n",
              "[5 rows x 10 columns]"
            ]
          },
          "metadata": {
            "tags": []
          },
          "execution_count": 4
        }
      ]
    },
    {
      "cell_type": "code",
      "metadata": {
        "id": "vihIgSDPBaeO",
        "colab": {
          "base_uri": "https://localhost:8080/",
          "height": 284
        },
        "outputId": "ab7bb61a-8c9d-4c42-ddce-fba20a44541c"
      },
      "source": [
        "store_df.describe()"
      ],
      "execution_count": 5,
      "outputs": [
        {
          "output_type": "execute_result",
          "data": {
            "text/html": [
              "<div>\n",
              "<style scoped>\n",
              "    .dataframe tbody tr th:only-of-type {\n",
              "        vertical-align: middle;\n",
              "    }\n",
              "\n",
              "    .dataframe tbody tr th {\n",
              "        vertical-align: top;\n",
              "    }\n",
              "\n",
              "    .dataframe thead th {\n",
              "        text-align: right;\n",
              "    }\n",
              "</style>\n",
              "<table border=\"1\" class=\"dataframe\">\n",
              "  <thead>\n",
              "    <tr style=\"text-align: right;\">\n",
              "      <th></th>\n",
              "      <th>Store</th>\n",
              "      <th>CompetitionDistance</th>\n",
              "      <th>CompetitionOpenSinceMonth</th>\n",
              "      <th>CompetitionOpenSinceYear</th>\n",
              "      <th>Promo2</th>\n",
              "      <th>Promo2SinceWeek</th>\n",
              "      <th>Promo2SinceYear</th>\n",
              "    </tr>\n",
              "  </thead>\n",
              "  <tbody>\n",
              "    <tr>\n",
              "      <th>count</th>\n",
              "      <td>1115.00000</td>\n",
              "      <td>1112.000000</td>\n",
              "      <td>761.000000</td>\n",
              "      <td>761.000000</td>\n",
              "      <td>1115.000000</td>\n",
              "      <td>571.000000</td>\n",
              "      <td>571.000000</td>\n",
              "    </tr>\n",
              "    <tr>\n",
              "      <th>mean</th>\n",
              "      <td>558.00000</td>\n",
              "      <td>5404.901079</td>\n",
              "      <td>7.224704</td>\n",
              "      <td>2008.668857</td>\n",
              "      <td>0.512108</td>\n",
              "      <td>23.595447</td>\n",
              "      <td>2011.763573</td>\n",
              "    </tr>\n",
              "    <tr>\n",
              "      <th>std</th>\n",
              "      <td>322.01708</td>\n",
              "      <td>7663.174720</td>\n",
              "      <td>3.212348</td>\n",
              "      <td>6.195983</td>\n",
              "      <td>0.500078</td>\n",
              "      <td>14.141984</td>\n",
              "      <td>1.674935</td>\n",
              "    </tr>\n",
              "    <tr>\n",
              "      <th>min</th>\n",
              "      <td>1.00000</td>\n",
              "      <td>20.000000</td>\n",
              "      <td>1.000000</td>\n",
              "      <td>1900.000000</td>\n",
              "      <td>0.000000</td>\n",
              "      <td>1.000000</td>\n",
              "      <td>2009.000000</td>\n",
              "    </tr>\n",
              "    <tr>\n",
              "      <th>25%</th>\n",
              "      <td>279.50000</td>\n",
              "      <td>717.500000</td>\n",
              "      <td>4.000000</td>\n",
              "      <td>2006.000000</td>\n",
              "      <td>0.000000</td>\n",
              "      <td>13.000000</td>\n",
              "      <td>2011.000000</td>\n",
              "    </tr>\n",
              "    <tr>\n",
              "      <th>50%</th>\n",
              "      <td>558.00000</td>\n",
              "      <td>2325.000000</td>\n",
              "      <td>8.000000</td>\n",
              "      <td>2010.000000</td>\n",
              "      <td>1.000000</td>\n",
              "      <td>22.000000</td>\n",
              "      <td>2012.000000</td>\n",
              "    </tr>\n",
              "    <tr>\n",
              "      <th>75%</th>\n",
              "      <td>836.50000</td>\n",
              "      <td>6882.500000</td>\n",
              "      <td>10.000000</td>\n",
              "      <td>2013.000000</td>\n",
              "      <td>1.000000</td>\n",
              "      <td>37.000000</td>\n",
              "      <td>2013.000000</td>\n",
              "    </tr>\n",
              "    <tr>\n",
              "      <th>max</th>\n",
              "      <td>1115.00000</td>\n",
              "      <td>75860.000000</td>\n",
              "      <td>12.000000</td>\n",
              "      <td>2015.000000</td>\n",
              "      <td>1.000000</td>\n",
              "      <td>50.000000</td>\n",
              "      <td>2015.000000</td>\n",
              "    </tr>\n",
              "  </tbody>\n",
              "</table>\n",
              "</div>"
            ],
            "text/plain": [
              "            Store  CompetitionDistance  ...  Promo2SinceWeek  Promo2SinceYear\n",
              "count  1115.00000          1112.000000  ...       571.000000       571.000000\n",
              "mean    558.00000          5404.901079  ...        23.595447      2011.763573\n",
              "std     322.01708          7663.174720  ...        14.141984         1.674935\n",
              "min       1.00000            20.000000  ...         1.000000      2009.000000\n",
              "25%     279.50000           717.500000  ...        13.000000      2011.000000\n",
              "50%     558.00000          2325.000000  ...        22.000000      2012.000000\n",
              "75%     836.50000          6882.500000  ...        37.000000      2013.000000\n",
              "max    1115.00000         75860.000000  ...        50.000000      2015.000000\n",
              "\n",
              "[8 rows x 7 columns]"
            ]
          },
          "metadata": {
            "tags": []
          },
          "execution_count": 5
        }
      ]
    },
    {
      "cell_type": "code",
      "metadata": {
        "id": "Qv2JdbNaBaeR",
        "colab": {
          "base_uri": "https://localhost:8080/"
        },
        "outputId": "03d8a753-b278-41fa-b38e-d6bb9b997222"
      },
      "source": [
        "#Checking the no. of NaN vales\n",
        "store_df.isna().sum()"
      ],
      "execution_count": 6,
      "outputs": [
        {
          "output_type": "execute_result",
          "data": {
            "text/plain": [
              "Store                          0\n",
              "StoreType                      0\n",
              "Assortment                     0\n",
              "CompetitionDistance            3\n",
              "CompetitionOpenSinceMonth    354\n",
              "CompetitionOpenSinceYear     354\n",
              "Promo2                         0\n",
              "Promo2SinceWeek              544\n",
              "Promo2SinceYear              544\n",
              "PromoInterval                544\n",
              "dtype: int64"
            ]
          },
          "metadata": {
            "tags": []
          },
          "execution_count": 6
        }
      ]
    },
    {
      "cell_type": "code",
      "metadata": {
        "id": "HUco5z-eBaeU",
        "colab": {
          "base_uri": "https://localhost:8080/",
          "height": 195
        },
        "outputId": "aab86648-9637-4ce2-8795-7dc9291a6278"
      },
      "source": [
        "train_df.head()"
      ],
      "execution_count": 7,
      "outputs": [
        {
          "output_type": "execute_result",
          "data": {
            "text/html": [
              "<div>\n",
              "<style scoped>\n",
              "    .dataframe tbody tr th:only-of-type {\n",
              "        vertical-align: middle;\n",
              "    }\n",
              "\n",
              "    .dataframe tbody tr th {\n",
              "        vertical-align: top;\n",
              "    }\n",
              "\n",
              "    .dataframe thead th {\n",
              "        text-align: right;\n",
              "    }\n",
              "</style>\n",
              "<table border=\"1\" class=\"dataframe\">\n",
              "  <thead>\n",
              "    <tr style=\"text-align: right;\">\n",
              "      <th></th>\n",
              "      <th>Store</th>\n",
              "      <th>DayOfWeek</th>\n",
              "      <th>Date</th>\n",
              "      <th>Sales</th>\n",
              "      <th>Customers</th>\n",
              "      <th>Open</th>\n",
              "      <th>Promo</th>\n",
              "      <th>StateHoliday</th>\n",
              "      <th>SchoolHoliday</th>\n",
              "    </tr>\n",
              "  </thead>\n",
              "  <tbody>\n",
              "    <tr>\n",
              "      <th>0</th>\n",
              "      <td>1</td>\n",
              "      <td>5</td>\n",
              "      <td>2015-07-31</td>\n",
              "      <td>5263</td>\n",
              "      <td>555</td>\n",
              "      <td>1</td>\n",
              "      <td>1</td>\n",
              "      <td>0</td>\n",
              "      <td>1</td>\n",
              "    </tr>\n",
              "    <tr>\n",
              "      <th>1</th>\n",
              "      <td>2</td>\n",
              "      <td>5</td>\n",
              "      <td>2015-07-31</td>\n",
              "      <td>6064</td>\n",
              "      <td>625</td>\n",
              "      <td>1</td>\n",
              "      <td>1</td>\n",
              "      <td>0</td>\n",
              "      <td>1</td>\n",
              "    </tr>\n",
              "    <tr>\n",
              "      <th>2</th>\n",
              "      <td>3</td>\n",
              "      <td>5</td>\n",
              "      <td>2015-07-31</td>\n",
              "      <td>8314</td>\n",
              "      <td>821</td>\n",
              "      <td>1</td>\n",
              "      <td>1</td>\n",
              "      <td>0</td>\n",
              "      <td>1</td>\n",
              "    </tr>\n",
              "    <tr>\n",
              "      <th>3</th>\n",
              "      <td>4</td>\n",
              "      <td>5</td>\n",
              "      <td>2015-07-31</td>\n",
              "      <td>13995</td>\n",
              "      <td>1498</td>\n",
              "      <td>1</td>\n",
              "      <td>1</td>\n",
              "      <td>0</td>\n",
              "      <td>1</td>\n",
              "    </tr>\n",
              "    <tr>\n",
              "      <th>4</th>\n",
              "      <td>5</td>\n",
              "      <td>5</td>\n",
              "      <td>2015-07-31</td>\n",
              "      <td>4822</td>\n",
              "      <td>559</td>\n",
              "      <td>1</td>\n",
              "      <td>1</td>\n",
              "      <td>0</td>\n",
              "      <td>1</td>\n",
              "    </tr>\n",
              "  </tbody>\n",
              "</table>\n",
              "</div>"
            ],
            "text/plain": [
              "   Store  DayOfWeek        Date  Sales  ...  Open  Promo  StateHoliday SchoolHoliday\n",
              "0      1          5  2015-07-31   5263  ...     1      1             0             1\n",
              "1      2          5  2015-07-31   6064  ...     1      1             0             1\n",
              "2      3          5  2015-07-31   8314  ...     1      1             0             1\n",
              "3      4          5  2015-07-31  13995  ...     1      1             0             1\n",
              "4      5          5  2015-07-31   4822  ...     1      1             0             1\n",
              "\n",
              "[5 rows x 9 columns]"
            ]
          },
          "metadata": {
            "tags": []
          },
          "execution_count": 7
        }
      ]
    },
    {
      "cell_type": "code",
      "metadata": {
        "id": "mm-dBDJkBaeW",
        "colab": {
          "base_uri": "https://localhost:8080/",
          "height": 284
        },
        "outputId": "e78baa18-c34b-44dc-ce05-15e9c8c1f0dd"
      },
      "source": [
        "train_df.describe()"
      ],
      "execution_count": 8,
      "outputs": [
        {
          "output_type": "execute_result",
          "data": {
            "text/html": [
              "<div>\n",
              "<style scoped>\n",
              "    .dataframe tbody tr th:only-of-type {\n",
              "        vertical-align: middle;\n",
              "    }\n",
              "\n",
              "    .dataframe tbody tr th {\n",
              "        vertical-align: top;\n",
              "    }\n",
              "\n",
              "    .dataframe thead th {\n",
              "        text-align: right;\n",
              "    }\n",
              "</style>\n",
              "<table border=\"1\" class=\"dataframe\">\n",
              "  <thead>\n",
              "    <tr style=\"text-align: right;\">\n",
              "      <th></th>\n",
              "      <th>Store</th>\n",
              "      <th>DayOfWeek</th>\n",
              "      <th>Sales</th>\n",
              "      <th>Customers</th>\n",
              "      <th>Open</th>\n",
              "      <th>Promo</th>\n",
              "      <th>SchoolHoliday</th>\n",
              "    </tr>\n",
              "  </thead>\n",
              "  <tbody>\n",
              "    <tr>\n",
              "      <th>count</th>\n",
              "      <td>1.017209e+06</td>\n",
              "      <td>1.017209e+06</td>\n",
              "      <td>1.017209e+06</td>\n",
              "      <td>1.017209e+06</td>\n",
              "      <td>1.017209e+06</td>\n",
              "      <td>1.017209e+06</td>\n",
              "      <td>1.017209e+06</td>\n",
              "    </tr>\n",
              "    <tr>\n",
              "      <th>mean</th>\n",
              "      <td>5.584297e+02</td>\n",
              "      <td>3.998341e+00</td>\n",
              "      <td>5.773819e+03</td>\n",
              "      <td>6.331459e+02</td>\n",
              "      <td>8.301067e-01</td>\n",
              "      <td>3.815145e-01</td>\n",
              "      <td>1.786467e-01</td>\n",
              "    </tr>\n",
              "    <tr>\n",
              "      <th>std</th>\n",
              "      <td>3.219087e+02</td>\n",
              "      <td>1.997391e+00</td>\n",
              "      <td>3.849926e+03</td>\n",
              "      <td>4.644117e+02</td>\n",
              "      <td>3.755392e-01</td>\n",
              "      <td>4.857586e-01</td>\n",
              "      <td>3.830564e-01</td>\n",
              "    </tr>\n",
              "    <tr>\n",
              "      <th>min</th>\n",
              "      <td>1.000000e+00</td>\n",
              "      <td>1.000000e+00</td>\n",
              "      <td>0.000000e+00</td>\n",
              "      <td>0.000000e+00</td>\n",
              "      <td>0.000000e+00</td>\n",
              "      <td>0.000000e+00</td>\n",
              "      <td>0.000000e+00</td>\n",
              "    </tr>\n",
              "    <tr>\n",
              "      <th>25%</th>\n",
              "      <td>2.800000e+02</td>\n",
              "      <td>2.000000e+00</td>\n",
              "      <td>3.727000e+03</td>\n",
              "      <td>4.050000e+02</td>\n",
              "      <td>1.000000e+00</td>\n",
              "      <td>0.000000e+00</td>\n",
              "      <td>0.000000e+00</td>\n",
              "    </tr>\n",
              "    <tr>\n",
              "      <th>50%</th>\n",
              "      <td>5.580000e+02</td>\n",
              "      <td>4.000000e+00</td>\n",
              "      <td>5.744000e+03</td>\n",
              "      <td>6.090000e+02</td>\n",
              "      <td>1.000000e+00</td>\n",
              "      <td>0.000000e+00</td>\n",
              "      <td>0.000000e+00</td>\n",
              "    </tr>\n",
              "    <tr>\n",
              "      <th>75%</th>\n",
              "      <td>8.380000e+02</td>\n",
              "      <td>6.000000e+00</td>\n",
              "      <td>7.856000e+03</td>\n",
              "      <td>8.370000e+02</td>\n",
              "      <td>1.000000e+00</td>\n",
              "      <td>1.000000e+00</td>\n",
              "      <td>0.000000e+00</td>\n",
              "    </tr>\n",
              "    <tr>\n",
              "      <th>max</th>\n",
              "      <td>1.115000e+03</td>\n",
              "      <td>7.000000e+00</td>\n",
              "      <td>4.155100e+04</td>\n",
              "      <td>7.388000e+03</td>\n",
              "      <td>1.000000e+00</td>\n",
              "      <td>1.000000e+00</td>\n",
              "      <td>1.000000e+00</td>\n",
              "    </tr>\n",
              "  </tbody>\n",
              "</table>\n",
              "</div>"
            ],
            "text/plain": [
              "              Store     DayOfWeek  ...         Promo  SchoolHoliday\n",
              "count  1.017209e+06  1.017209e+06  ...  1.017209e+06   1.017209e+06\n",
              "mean   5.584297e+02  3.998341e+00  ...  3.815145e-01   1.786467e-01\n",
              "std    3.219087e+02  1.997391e+00  ...  4.857586e-01   3.830564e-01\n",
              "min    1.000000e+00  1.000000e+00  ...  0.000000e+00   0.000000e+00\n",
              "25%    2.800000e+02  2.000000e+00  ...  0.000000e+00   0.000000e+00\n",
              "50%    5.580000e+02  4.000000e+00  ...  0.000000e+00   0.000000e+00\n",
              "75%    8.380000e+02  6.000000e+00  ...  1.000000e+00   0.000000e+00\n",
              "max    1.115000e+03  7.000000e+00  ...  1.000000e+00   1.000000e+00\n",
              "\n",
              "[8 rows x 7 columns]"
            ]
          },
          "metadata": {
            "tags": []
          },
          "execution_count": 8
        }
      ]
    },
    {
      "cell_type": "code",
      "metadata": {
        "id": "CMc6YC7fBaeZ",
        "colab": {
          "base_uri": "https://localhost:8080/"
        },
        "outputId": "3520b77f-174a-42dd-cc28-fa6427ecb881"
      },
      "source": [
        "#Checking the no. of NaN values\n",
        "train_df.isna().sum()"
      ],
      "execution_count": 9,
      "outputs": [
        {
          "output_type": "execute_result",
          "data": {
            "text/plain": [
              "Store            0\n",
              "DayOfWeek        0\n",
              "Date             0\n",
              "Sales            0\n",
              "Customers        0\n",
              "Open             0\n",
              "Promo            0\n",
              "StateHoliday     0\n",
              "SchoolHoliday    0\n",
              "dtype: int64"
            ]
          },
          "metadata": {
            "tags": []
          },
          "execution_count": 9
        }
      ]
    },
    {
      "cell_type": "markdown",
      "metadata": {
        "id": "mwbD1dKuBaeb"
      },
      "source": [
        "# Data Cleaning"
      ]
    },
    {
      "cell_type": "code",
      "metadata": {
        "id": "WXFzPdZFBaeb",
        "colab": {
          "base_uri": "https://localhost:8080/",
          "height": 299
        },
        "outputId": "e6fa61d6-74df-440b-d152-28c3d95f88c2"
      },
      "source": [
        "#Merging both the Dataframes into one based on the \"Store\" ID\n",
        "df=store_df.merge(train_df,on=[\"Store\"],how=\"inner\")\n",
        "df.head()"
      ],
      "execution_count": 10,
      "outputs": [
        {
          "output_type": "execute_result",
          "data": {
            "text/html": [
              "<div>\n",
              "<style scoped>\n",
              "    .dataframe tbody tr th:only-of-type {\n",
              "        vertical-align: middle;\n",
              "    }\n",
              "\n",
              "    .dataframe tbody tr th {\n",
              "        vertical-align: top;\n",
              "    }\n",
              "\n",
              "    .dataframe thead th {\n",
              "        text-align: right;\n",
              "    }\n",
              "</style>\n",
              "<table border=\"1\" class=\"dataframe\">\n",
              "  <thead>\n",
              "    <tr style=\"text-align: right;\">\n",
              "      <th></th>\n",
              "      <th>Store</th>\n",
              "      <th>StoreType</th>\n",
              "      <th>Assortment</th>\n",
              "      <th>CompetitionDistance</th>\n",
              "      <th>CompetitionOpenSinceMonth</th>\n",
              "      <th>CompetitionOpenSinceYear</th>\n",
              "      <th>Promo2</th>\n",
              "      <th>Promo2SinceWeek</th>\n",
              "      <th>Promo2SinceYear</th>\n",
              "      <th>PromoInterval</th>\n",
              "      <th>DayOfWeek</th>\n",
              "      <th>Date</th>\n",
              "      <th>Sales</th>\n",
              "      <th>Customers</th>\n",
              "      <th>Open</th>\n",
              "      <th>Promo</th>\n",
              "      <th>StateHoliday</th>\n",
              "      <th>SchoolHoliday</th>\n",
              "    </tr>\n",
              "  </thead>\n",
              "  <tbody>\n",
              "    <tr>\n",
              "      <th>0</th>\n",
              "      <td>1</td>\n",
              "      <td>c</td>\n",
              "      <td>a</td>\n",
              "      <td>1270.0</td>\n",
              "      <td>9.0</td>\n",
              "      <td>2008.0</td>\n",
              "      <td>0</td>\n",
              "      <td>NaN</td>\n",
              "      <td>NaN</td>\n",
              "      <td>NaN</td>\n",
              "      <td>5</td>\n",
              "      <td>2015-07-31</td>\n",
              "      <td>5263</td>\n",
              "      <td>555</td>\n",
              "      <td>1</td>\n",
              "      <td>1</td>\n",
              "      <td>0</td>\n",
              "      <td>1</td>\n",
              "    </tr>\n",
              "    <tr>\n",
              "      <th>1</th>\n",
              "      <td>1</td>\n",
              "      <td>c</td>\n",
              "      <td>a</td>\n",
              "      <td>1270.0</td>\n",
              "      <td>9.0</td>\n",
              "      <td>2008.0</td>\n",
              "      <td>0</td>\n",
              "      <td>NaN</td>\n",
              "      <td>NaN</td>\n",
              "      <td>NaN</td>\n",
              "      <td>4</td>\n",
              "      <td>2015-07-30</td>\n",
              "      <td>5020</td>\n",
              "      <td>546</td>\n",
              "      <td>1</td>\n",
              "      <td>1</td>\n",
              "      <td>0</td>\n",
              "      <td>1</td>\n",
              "    </tr>\n",
              "    <tr>\n",
              "      <th>2</th>\n",
              "      <td>1</td>\n",
              "      <td>c</td>\n",
              "      <td>a</td>\n",
              "      <td>1270.0</td>\n",
              "      <td>9.0</td>\n",
              "      <td>2008.0</td>\n",
              "      <td>0</td>\n",
              "      <td>NaN</td>\n",
              "      <td>NaN</td>\n",
              "      <td>NaN</td>\n",
              "      <td>3</td>\n",
              "      <td>2015-07-29</td>\n",
              "      <td>4782</td>\n",
              "      <td>523</td>\n",
              "      <td>1</td>\n",
              "      <td>1</td>\n",
              "      <td>0</td>\n",
              "      <td>1</td>\n",
              "    </tr>\n",
              "    <tr>\n",
              "      <th>3</th>\n",
              "      <td>1</td>\n",
              "      <td>c</td>\n",
              "      <td>a</td>\n",
              "      <td>1270.0</td>\n",
              "      <td>9.0</td>\n",
              "      <td>2008.0</td>\n",
              "      <td>0</td>\n",
              "      <td>NaN</td>\n",
              "      <td>NaN</td>\n",
              "      <td>NaN</td>\n",
              "      <td>2</td>\n",
              "      <td>2015-07-28</td>\n",
              "      <td>5011</td>\n",
              "      <td>560</td>\n",
              "      <td>1</td>\n",
              "      <td>1</td>\n",
              "      <td>0</td>\n",
              "      <td>1</td>\n",
              "    </tr>\n",
              "    <tr>\n",
              "      <th>4</th>\n",
              "      <td>1</td>\n",
              "      <td>c</td>\n",
              "      <td>a</td>\n",
              "      <td>1270.0</td>\n",
              "      <td>9.0</td>\n",
              "      <td>2008.0</td>\n",
              "      <td>0</td>\n",
              "      <td>NaN</td>\n",
              "      <td>NaN</td>\n",
              "      <td>NaN</td>\n",
              "      <td>1</td>\n",
              "      <td>2015-07-27</td>\n",
              "      <td>6102</td>\n",
              "      <td>612</td>\n",
              "      <td>1</td>\n",
              "      <td>1</td>\n",
              "      <td>0</td>\n",
              "      <td>1</td>\n",
              "    </tr>\n",
              "  </tbody>\n",
              "</table>\n",
              "</div>"
            ],
            "text/plain": [
              "   Store StoreType Assortment  ...  Promo  StateHoliday  SchoolHoliday\n",
              "0      1         c          a  ...      1             0              1\n",
              "1      1         c          a  ...      1             0              1\n",
              "2      1         c          a  ...      1             0              1\n",
              "3      1         c          a  ...      1             0              1\n",
              "4      1         c          a  ...      1             0              1\n",
              "\n",
              "[5 rows x 18 columns]"
            ]
          },
          "metadata": {
            "tags": []
          },
          "execution_count": 10
        }
      ]
    },
    {
      "cell_type": "code",
      "metadata": {
        "id": "L1LBYIixBaed",
        "colab": {
          "base_uri": "https://localhost:8080/"
        },
        "outputId": "7a6eaf23-2575-4276-9a4d-734a749cd3dc"
      },
      "source": [
        "#(rowsxcolumns) of the merged DataFrame\n",
        "df.shape"
      ],
      "execution_count": 11,
      "outputs": [
        {
          "output_type": "execute_result",
          "data": {
            "text/plain": [
              "(1017209, 18)"
            ]
          },
          "metadata": {
            "tags": []
          },
          "execution_count": 11
        }
      ]
    },
    {
      "cell_type": "code",
      "metadata": {
        "id": "LvMeXM4VBaef",
        "colab": {
          "base_uri": "https://localhost:8080/"
        },
        "outputId": "4d264957-0a8a-468c-b984-3db675c9e714"
      },
      "source": [
        "#Checking the no. of NaN values\n",
        "df.isna().sum()"
      ],
      "execution_count": 12,
      "outputs": [
        {
          "output_type": "execute_result",
          "data": {
            "text/plain": [
              "Store                             0\n",
              "StoreType                         0\n",
              "Assortment                        0\n",
              "CompetitionDistance            2642\n",
              "CompetitionOpenSinceMonth    323348\n",
              "CompetitionOpenSinceYear     323348\n",
              "Promo2                            0\n",
              "Promo2SinceWeek              508031\n",
              "Promo2SinceYear              508031\n",
              "PromoInterval                508031\n",
              "DayOfWeek                         0\n",
              "Date                              0\n",
              "Sales                             0\n",
              "Customers                         0\n",
              "Open                              0\n",
              "Promo                             0\n",
              "StateHoliday                      0\n",
              "SchoolHoliday                     0\n",
              "dtype: int64"
            ]
          },
          "metadata": {
            "tags": []
          },
          "execution_count": 12
        }
      ]
    },
    {
      "cell_type": "markdown",
      "metadata": {
        "id": "Kd_CAlI6Baeh"
      },
      "source": [
        "The columns - CompetitionOpenSinceMonth, CompetitionOpenSinceYear, Promo2SinceWeek, Promo2SinceYear, PromoInterval have too many values as NaN (roughly 30% or above).\n",
        "Whereas, the column CompetitionDistance has very few values missing, and these values can be substituted by the 'mode' of the very same column. "
      ]
    },
    {
      "cell_type": "code",
      "metadata": {
        "id": "6zG4YmaDBaei"
      },
      "source": [
        "#Dropping columns\n",
        "df=df.drop(columns=[\"PromoInterval\",\"Promo2SinceWeek\",\"Promo2SinceYear\"])"
      ],
      "execution_count": 13,
      "outputs": []
    },
    {
      "cell_type": "code",
      "metadata": {
        "id": "jn2GuWjNBaek"
      },
      "source": [
        "#Handling NaN\n",
        "df.CompetitionDistance.fillna(df.CompetitionDistance.mode()[0],inplace=True)\n",
        "df.CompetitionOpenSinceMonth.fillna(1, inplace=True)\n",
        "df.CompetitionOpenSinceYear.fillna(df.CompetitionOpenSinceYear.mode()[0], inplace=True)\n",
        "df.CompetitionOpenSinceMonth=df.CompetitionOpenSinceMonth.astype(int)\n",
        "df.CompetitionOpenSinceYear=df.CompetitionOpenSinceYear.astype(int)"
      ],
      "execution_count": 14,
      "outputs": []
    },
    {
      "cell_type": "markdown",
      "metadata": {
        "id": "FP7BzzT_Baem"
      },
      "source": [
        "# Handling Outliers"
      ]
    },
    {
      "cell_type": "code",
      "metadata": {
        "id": "BaVIitEFBaen",
        "colab": {
          "base_uri": "https://localhost:8080/",
          "height": 682
        },
        "outputId": "1951090d-ef62-4ae0-e24a-256d3c66c974"
      },
      "source": [
        "#Find the range of data\n",
        "plt.figure(figsize=(5,10))\n",
        "sns.set(style=\"whitegrid\")\n",
        "sns.distplot(df[\"Sales\"])"
      ],
      "execution_count": 15,
      "outputs": [
        {
          "output_type": "stream",
          "text": [
            "/usr/local/lib/python3.6/dist-packages/seaborn/distributions.py:2551: FutureWarning: `distplot` is a deprecated function and will be removed in a future version. Please adapt your code to use either `displot` (a figure-level function with similar flexibility) or `histplot` (an axes-level function for histograms).\n",
            "  warnings.warn(msg, FutureWarning)\n"
          ],
          "name": "stderr"
        },
        {
          "output_type": "execute_result",
          "data": {
            "text/plain": [
              "<matplotlib.axes._subplots.AxesSubplot at 0x7ff728388b70>"
            ]
          },
          "metadata": {
            "tags": []
          },
          "execution_count": 15
        },
        {
          "output_type": "display_data",
          "data": {
            "image/png": "[encoded data removed]",
            "text/plain": [
              "<Figure size 360x720 with 1 Axes>"
            ]
          },
          "metadata": {
            "tags": [],
            "needs_background": "light"
          }
        }
      ]
    },
    {
      "cell_type": "code",
      "metadata": {
        "id": "yXUtjeXMBaep",
        "colab": {
          "base_uri": "https://localhost:8080/",
          "height": 682
        },
        "outputId": "8709aa3b-f57c-45ae-a517-786b491460bc"
      },
      "source": [
        "#Find the range of the data\n",
        "plt.figure(figsize=(5,10))\n",
        "sns.set(style=\"whitegrid\")\n",
        "sns.distplot(df[\"Customers\"])"
      ],
      "execution_count": 16,
      "outputs": [
        {
          "output_type": "stream",
          "text": [
            "/usr/local/lib/python3.6/dist-packages/seaborn/distributions.py:2551: FutureWarning: `distplot` is a deprecated function and will be removed in a future version. Please adapt your code to use either `displot` (a figure-level function with similar flexibility) or `histplot` (an axes-level function for histograms).\n",
            "  warnings.warn(msg, FutureWarning)\n"
          ],
          "name": "stderr"
        },
        {
          "output_type": "execute_result",
          "data": {
            "text/plain": [
              "<matplotlib.axes._subplots.AxesSubplot at 0x7ff7242d9668>"
            ]
          },
          "metadata": {
            "tags": []
          },
          "execution_count": 16
        },
        {
          "output_type": "display_data",
          "data": {
            "image/png": "[encoded data removed]",
            "text/plain": [
              "<Figure size 360x720 with 1 Axes>"
            ]
          },
          "metadata": {
            "tags": []
          }
        }
      ]
    },
    {
      "cell_type": "code",
      "metadata": {
        "id": "FyhZCD1DBaer",
        "colab": {
          "base_uri": "https://localhost:8080/",
          "height": 628
        },
        "outputId": "42ae29d1-9f1f-4a5f-d46a-4d76ad48da79"
      },
      "source": [
        "plt.figure(figsize=(10,10))\n",
        "sns.set(style=\"whitegrid\")\n",
        "sns.boxenplot(data=df,scale=\"linear\",x=\"DayOfWeek\",y=\"Sales\",color=\"orange\")"
      ],
      "execution_count": 17,
      "outputs": [
        {
          "output_type": "execute_result",
          "data": {
            "text/plain": [
              "<matplotlib.axes._subplots.AxesSubplot at 0x7ff7242d1518>"
            ]
          },
          "metadata": {
            "tags": []
          },
          "execution_count": 17
        },
        {
          "output_type": "display_data",
          "data": {
            "image/png": "[encoded data removed]",
            "text/plain": [
              "<Figure size 720x720 with 1 Axes>"
            ]
          },
          "metadata": {
            "tags": []
          }
        }
      ]
    },
    {
      "cell_type": "code",
      "metadata": {
        "id": "2AGhuK-pBaet",
        "colab": {
          "base_uri": "https://localhost:8080/",
          "height": 628
        },
        "outputId": "c3be00c6-32be-456a-fbaf-a5be68a42bc4"
      },
      "source": [
        "plt.figure(figsize=(10,10))\n",
        "sns.set(style=\"whitegrid\")\n",
        "sns.boxenplot(y=\"Customers\", x=\"DayOfWeek\",data=df, scale=\"linear\",color=\"orange\")"
      ],
      "execution_count": 18,
      "outputs": [
        {
          "output_type": "execute_result",
          "data": {
            "text/plain": [
              "<matplotlib.axes._subplots.AxesSubplot at 0x7ff7241c0780>"
            ]
          },
          "metadata": {
            "tags": []
          },
          "execution_count": 18
        },
        {
          "output_type": "display_data",
          "data": {
            "image/png": "[encoded data removed]",
            "text/plain": [
              "<Figure size 720x720 with 1 Axes>"
            ]
          },
          "metadata": {
            "tags": []
          }
        }
      ]
    },
    {
      "cell_type": "markdown",
      "metadata": {
        "id": "XivnaMxzBaev"
      },
      "source": [
        "This data, contains many outliers, but these might have been caused to the surge of customers during a festival or Holiday, or due to an effective promo.\n",
        "However I will cap off, the Customers at 3000, and Sales at 20,000."
      ]
    },
    {
      "cell_type": "code",
      "metadata": {
        "id": "pMHP8MA9Baew",
        "colab": {
          "base_uri": "https://localhost:8080/"
        },
        "outputId": "cbebcb5c-328e-44a6-c555-0b65d6567a84"
      },
      "source": [
        "df[\"Sales\"]=df[\"Sales\"].apply(lambda x: 20000 if x>20000 else x)\n",
        "df[\"Customers\"]=df[\"Customers\"].apply(lambda y: 3000 if y>3000 else y)\n",
        "print(max(df[\"Sales\"]))\n",
        "print(max(df[\"Customers\"]))"
      ],
      "execution_count": 19,
      "outputs": [
        {
          "output_type": "stream",
          "text": [
            "20000\n",
            "3000\n"
          ],
          "name": "stdout"
        }
      ]
    },
    {
      "cell_type": "markdown",
      "metadata": {
        "id": "SgvDZVbaBaez"
      },
      "source": [
        "# Working With 'TIME'"
      ]
    },
    {
      "cell_type": "code",
      "metadata": {
        "id": "_xVDKWg-Baez",
        "colab": {
          "base_uri": "https://localhost:8080/",
          "height": 623
        },
        "outputId": "7c1380b7-adfc-41a6-80ba-a91a1fa9362b"
      },
      "source": [
        "df[\"Date\"]=pd.to_datetime(df[\"Date\"])\n",
        "df[\"Year\"]=df[\"Date\"].dt.year\n",
        "df[\"Month\"]=df[\"Date\"].dt.month\n",
        "df[\"Day\"]=df[\"Date\"].dt.day\n",
        "df[\"Week\"]=df[\"Date\"].dt.week%4\n",
        "df[\"Season\"] = np.where(df[\"Month\"].isin([3,4]),\"Spring\",np.where(df[\"Month\"].isin([5,6,7,8]), \"Summer\",np.where(df[\"Month\"].isin ([9,10,11]),\"Fall\",np.where(df[\"Month\"].isin ([12,1,2]),\"Winter\",\"None\"))))\n",
        "df"
      ],
      "execution_count": 20,
      "outputs": [
        {
          "output_type": "stream",
          "text": [
            "/usr/local/lib/python3.6/dist-packages/ipykernel_launcher.py:5: FutureWarning: Series.dt.weekofyear and Series.dt.week have been deprecated.  Please use Series.dt.isocalendar().week instead.\n",
            "  \"\"\"\n"
          ],
          "name": "stderr"
        },
        {
          "output_type": "execute_result",
          "data": {
            "text/html": [
              "<div>\n",
              "<style scoped>\n",
              "    .dataframe tbody tr th:only-of-type {\n",
              "        vertical-align: middle;\n",
              "    }\n",
              "\n",
              "    .dataframe tbody tr th {\n",
              "        vertical-align: top;\n",
              "    }\n",
              "\n",
              "    .dataframe thead th {\n",
              "        text-align: right;\n",
              "    }\n",
              "</style>\n",
              "<table border=\"1\" class=\"dataframe\">\n",
              "  <thead>\n",
              "    <tr style=\"text-align: right;\">\n",
              "      <th></th>\n",
              "      <th>Store</th>\n",
              "      <th>StoreType</th>\n",
              "      <th>Assortment</th>\n",
              "      <th>CompetitionDistance</th>\n",
              "      <th>CompetitionOpenSinceMonth</th>\n",
              "      <th>CompetitionOpenSinceYear</th>\n",
              "      <th>Promo2</th>\n",
              "      <th>DayOfWeek</th>\n",
              "      <th>Date</th>\n",
              "      <th>Sales</th>\n",
              "      <th>Customers</th>\n",
              "      <th>Open</th>\n",
              "      <th>Promo</th>\n",
              "      <th>StateHoliday</th>\n",
              "      <th>SchoolHoliday</th>\n",
              "      <th>Year</th>\n",
              "      <th>Month</th>\n",
              "      <th>Day</th>\n",
              "      <th>Week</th>\n",
              "      <th>Season</th>\n",
              "    </tr>\n",
              "  </thead>\n",
              "  <tbody>\n",
              "    <tr>\n",
              "      <th>0</th>\n",
              "      <td>1</td>\n",
              "      <td>c</td>\n",
              "      <td>a</td>\n",
              "      <td>1270.0</td>\n",
              "      <td>9</td>\n",
              "      <td>2008</td>\n",
              "      <td>0</td>\n",
              "      <td>5</td>\n",
              "      <td>2015-07-31</td>\n",
              "      <td>5263</td>\n",
              "      <td>555</td>\n",
              "      <td>1</td>\n",
              "      <td>1</td>\n",
              "      <td>0</td>\n",
              "      <td>1</td>\n",
              "      <td>2015</td>\n",
              "      <td>7</td>\n",
              "      <td>31</td>\n",
              "      <td>3</td>\n",
              "      <td>Summer</td>\n",
              "    </tr>\n",
              "    <tr>\n",
              "      <th>1</th>\n",
              "      <td>1</td>\n",
              "      <td>c</td>\n",
              "      <td>a</td>\n",
              "      <td>1270.0</td>\n",
              "      <td>9</td>\n",
              "      <td>2008</td>\n",
              "      <td>0</td>\n",
              "      <td>4</td>\n",
              "      <td>2015-07-30</td>\n",
              "      <td>5020</td>\n",
              "      <td>546</td>\n",
              "      <td>1</td>\n",
              "      <td>1</td>\n",
              "      <td>0</td>\n",
              "      <td>1</td>\n",
              "      <td>2015</td>\n",
              "      <td>7</td>\n",
              "      <td>30</td>\n",
              "      <td>3</td>\n",
              "      <td>Summer</td>\n",
              "    </tr>\n",
              "    <tr>\n",
              "      <th>2</th>\n",
              "      <td>1</td>\n",
              "      <td>c</td>\n",
              "      <td>a</td>\n",
              "      <td>1270.0</td>\n",
              "      <td>9</td>\n",
              "      <td>2008</td>\n",
              "      <td>0</td>\n",
              "      <td>3</td>\n",
              "      <td>2015-07-29</td>\n",
              "      <td>4782</td>\n",
              "      <td>523</td>\n",
              "      <td>1</td>\n",
              "      <td>1</td>\n",
              "      <td>0</td>\n",
              "      <td>1</td>\n",
              "      <td>2015</td>\n",
              "      <td>7</td>\n",
              "      <td>29</td>\n",
              "      <td>3</td>\n",
              "      <td>Summer</td>\n",
              "    </tr>\n",
              "    <tr>\n",
              "      <th>3</th>\n",
              "      <td>1</td>\n",
              "      <td>c</td>\n",
              "      <td>a</td>\n",
              "      <td>1270.0</td>\n",
              "      <td>9</td>\n",
              "      <td>2008</td>\n",
              "      <td>0</td>\n",
              "      <td>2</td>\n",
              "      <td>2015-07-28</td>\n",
              "      <td>5011</td>\n",
              "      <td>560</td>\n",
              "      <td>1</td>\n",
              "      <td>1</td>\n",
              "      <td>0</td>\n",
              "      <td>1</td>\n",
              "      <td>2015</td>\n",
              "      <td>7</td>\n",
              "      <td>28</td>\n",
              "      <td>3</td>\n",
              "      <td>Summer</td>\n",
              "    </tr>\n",
              "    <tr>\n",
              "      <th>4</th>\n",
              "      <td>1</td>\n",
              "      <td>c</td>\n",
              "      <td>a</td>\n",
              "      <td>1270.0</td>\n",
              "      <td>9</td>\n",
              "      <td>2008</td>\n",
              "      <td>0</td>\n",
              "      <td>1</td>\n",
              "      <td>2015-07-27</td>\n",
              "      <td>6102</td>\n",
              "      <td>612</td>\n",
              "      <td>1</td>\n",
              "      <td>1</td>\n",
              "      <td>0</td>\n",
              "      <td>1</td>\n",
              "      <td>2015</td>\n",
              "      <td>7</td>\n",
              "      <td>27</td>\n",
              "      <td>3</td>\n",
              "      <td>Summer</td>\n",
              "    </tr>\n",
              "    <tr>\n",
              "      <th>...</th>\n",
              "      <td>...</td>\n",
              "      <td>...</td>\n",
              "      <td>...</td>\n",
              "      <td>...</td>\n",
              "      <td>...</td>\n",
              "      <td>...</td>\n",
              "      <td>...</td>\n",
              "      <td>...</td>\n",
              "      <td>...</td>\n",
              "      <td>...</td>\n",
              "      <td>...</td>\n",
              "      <td>...</td>\n",
              "      <td>...</td>\n",
              "      <td>...</td>\n",
              "      <td>...</td>\n",
              "      <td>...</td>\n",
              "      <td>...</td>\n",
              "      <td>...</td>\n",
              "      <td>...</td>\n",
              "      <td>...</td>\n",
              "    </tr>\n",
              "    <tr>\n",
              "      <th>1017204</th>\n",
              "      <td>1115</td>\n",
              "      <td>d</td>\n",
              "      <td>c</td>\n",
              "      <td>5350.0</td>\n",
              "      <td>1</td>\n",
              "      <td>2013</td>\n",
              "      <td>1</td>\n",
              "      <td>6</td>\n",
              "      <td>2013-01-05</td>\n",
              "      <td>4771</td>\n",
              "      <td>339</td>\n",
              "      <td>1</td>\n",
              "      <td>0</td>\n",
              "      <td>0</td>\n",
              "      <td>1</td>\n",
              "      <td>2013</td>\n",
              "      <td>1</td>\n",
              "      <td>5</td>\n",
              "      <td>1</td>\n",
              "      <td>Winter</td>\n",
              "    </tr>\n",
              "    <tr>\n",
              "      <th>1017205</th>\n",
              "      <td>1115</td>\n",
              "      <td>d</td>\n",
              "      <td>c</td>\n",
              "      <td>5350.0</td>\n",
              "      <td>1</td>\n",
              "      <td>2013</td>\n",
              "      <td>1</td>\n",
              "      <td>5</td>\n",
              "      <td>2013-01-04</td>\n",
              "      <td>4540</td>\n",
              "      <td>326</td>\n",
              "      <td>1</td>\n",
              "      <td>0</td>\n",
              "      <td>0</td>\n",
              "      <td>1</td>\n",
              "      <td>2013</td>\n",
              "      <td>1</td>\n",
              "      <td>4</td>\n",
              "      <td>1</td>\n",
              "      <td>Winter</td>\n",
              "    </tr>\n",
              "    <tr>\n",
              "      <th>1017206</th>\n",
              "      <td>1115</td>\n",
              "      <td>d</td>\n",
              "      <td>c</td>\n",
              "      <td>5350.0</td>\n",
              "      <td>1</td>\n",
              "      <td>2013</td>\n",
              "      <td>1</td>\n",
              "      <td>4</td>\n",
              "      <td>2013-01-03</td>\n",
              "      <td>4297</td>\n",
              "      <td>300</td>\n",
              "      <td>1</td>\n",
              "      <td>0</td>\n",
              "      <td>0</td>\n",
              "      <td>1</td>\n",
              "      <td>2013</td>\n",
              "      <td>1</td>\n",
              "      <td>3</td>\n",
              "      <td>1</td>\n",
              "      <td>Winter</td>\n",
              "    </tr>\n",
              "    <tr>\n",
              "      <th>1017207</th>\n",
              "      <td>1115</td>\n",
              "      <td>d</td>\n",
              "      <td>c</td>\n",
              "      <td>5350.0</td>\n",
              "      <td>1</td>\n",
              "      <td>2013</td>\n",
              "      <td>1</td>\n",
              "      <td>3</td>\n",
              "      <td>2013-01-02</td>\n",
              "      <td>3697</td>\n",
              "      <td>305</td>\n",
              "      <td>1</td>\n",
              "      <td>0</td>\n",
              "      <td>0</td>\n",
              "      <td>1</td>\n",
              "      <td>2013</td>\n",
              "      <td>1</td>\n",
              "      <td>2</td>\n",
              "      <td>1</td>\n",
              "      <td>Winter</td>\n",
              "    </tr>\n",
              "    <tr>\n",
              "      <th>1017208</th>\n",
              "      <td>1115</td>\n",
              "      <td>d</td>\n",
              "      <td>c</td>\n",
              "      <td>5350.0</td>\n",
              "      <td>1</td>\n",
              "      <td>2013</td>\n",
              "      <td>1</td>\n",
              "      <td>2</td>\n",
              "      <td>2013-01-01</td>\n",
              "      <td>0</td>\n",
              "      <td>0</td>\n",
              "      <td>0</td>\n",
              "      <td>0</td>\n",
              "      <td>a</td>\n",
              "      <td>1</td>\n",
              "      <td>2013</td>\n",
              "      <td>1</td>\n",
              "      <td>1</td>\n",
              "      <td>1</td>\n",
              "      <td>Winter</td>\n",
              "    </tr>\n",
              "  </tbody>\n",
              "</table>\n",
              "<p>1017209 rows × 20 columns</p>\n",
              "</div>"
            ],
            "text/plain": [
              "         Store StoreType Assortment  ...  Day  Week  Season\n",
              "0            1         c          a  ...   31     3  Summer\n",
              "1            1         c          a  ...   30     3  Summer\n",
              "2            1         c          a  ...   29     3  Summer\n",
              "3            1         c          a  ...   28     3  Summer\n",
              "4            1         c          a  ...   27     3  Summer\n",
              "...        ...       ...        ...  ...  ...   ...     ...\n",
              "1017204   1115         d          c  ...    5     1  Winter\n",
              "1017205   1115         d          c  ...    4     1  Winter\n",
              "1017206   1115         d          c  ...    3     1  Winter\n",
              "1017207   1115         d          c  ...    2     1  Winter\n",
              "1017208   1115         d          c  ...    1     1  Winter\n",
              "\n",
              "[1017209 rows x 20 columns]"
            ]
          },
          "metadata": {
            "tags": []
          },
          "execution_count": 20
        }
      ]
    },
    {
      "cell_type": "markdown",
      "metadata": {
        "id": "znAFX1blBae1"
      },
      "source": [
        "Adding an additional feature, that records the no. of Holidays per week."
      ]
    },
    {
      "cell_type": "code",
      "metadata": {
        "id": "VnNRmbHDBae2",
        "colab": {
          "base_uri": "https://localhost:8080/",
          "height": 431
        },
        "outputId": "060f67bf-85fc-4cb5-ec9a-066ce67684ce"
      },
      "source": [
        "Holiday_Year_Month_Week_df=pd.DataFrame({\"Holiday per week\":df[\"SchoolHoliday\"],\"Week\":df[\"Week\"],\"Month\":df[\"Month\"],\"Year\":df[\"Year\"],\"Date\":df[\"Date\"]})\n",
        "Holiday_Year_Month_Week_df=Holiday_Year_Month_Week_df.drop_duplicates(subset=['Date'])\n",
        "Holiday_Year_Month_Week_df=Holiday_Year_Month_Week_df.groupby([\"Year\",\"Month\",\"Week\"]).sum()\n",
        "Holiday_Year_Month_Week_df"
      ],
      "execution_count": 21,
      "outputs": [
        {
          "output_type": "execute_result",
          "data": {
            "text/html": [
              "<div>\n",
              "<style scoped>\n",
              "    .dataframe tbody tr th:only-of-type {\n",
              "        vertical-align: middle;\n",
              "    }\n",
              "\n",
              "    .dataframe tbody tr th {\n",
              "        vertical-align: top;\n",
              "    }\n",
              "\n",
              "    .dataframe thead th {\n",
              "        text-align: right;\n",
              "    }\n",
              "</style>\n",
              "<table border=\"1\" class=\"dataframe\">\n",
              "  <thead>\n",
              "    <tr style=\"text-align: right;\">\n",
              "      <th></th>\n",
              "      <th></th>\n",
              "      <th></th>\n",
              "      <th>Holiday per week</th>\n",
              "    </tr>\n",
              "    <tr>\n",
              "      <th>Year</th>\n",
              "      <th>Month</th>\n",
              "      <th>Week</th>\n",
              "      <th></th>\n",
              "    </tr>\n",
              "  </thead>\n",
              "  <tbody>\n",
              "    <tr>\n",
              "      <th rowspan=\"5\" valign=\"top\">2013</th>\n",
              "      <th rowspan=\"4\" valign=\"top\">1</th>\n",
              "      <th>0</th>\n",
              "      <td>0</td>\n",
              "    </tr>\n",
              "    <tr>\n",
              "      <th>1</th>\n",
              "      <td>6</td>\n",
              "    </tr>\n",
              "    <tr>\n",
              "      <th>2</th>\n",
              "      <td>5</td>\n",
              "    </tr>\n",
              "    <tr>\n",
              "      <th>3</th>\n",
              "      <td>0</td>\n",
              "    </tr>\n",
              "    <tr>\n",
              "      <th>2</th>\n",
              "      <th>0</th>\n",
              "      <td>0</td>\n",
              "    </tr>\n",
              "    <tr>\n",
              "      <th>...</th>\n",
              "      <th>...</th>\n",
              "      <th>...</th>\n",
              "      <td>...</td>\n",
              "    </tr>\n",
              "    <tr>\n",
              "      <th rowspan=\"5\" valign=\"top\">2015</th>\n",
              "      <th>6</th>\n",
              "      <th>3</th>\n",
              "      <td>0</td>\n",
              "    </tr>\n",
              "    <tr>\n",
              "      <th rowspan=\"4\" valign=\"top\">7</th>\n",
              "      <th>0</th>\n",
              "      <td>0</td>\n",
              "    </tr>\n",
              "    <tr>\n",
              "      <th>1</th>\n",
              "      <td>0</td>\n",
              "    </tr>\n",
              "    <tr>\n",
              "      <th>2</th>\n",
              "      <td>0</td>\n",
              "    </tr>\n",
              "    <tr>\n",
              "      <th>3</th>\n",
              "      <td>5</td>\n",
              "    </tr>\n",
              "  </tbody>\n",
              "</table>\n",
              "<p>124 rows × 1 columns</p>\n",
              "</div>"
            ],
            "text/plain": [
              "                 Holiday per week\n",
              "Year Month Week                  \n",
              "2013 1     0                    0\n",
              "           1                    6\n",
              "           2                    5\n",
              "           3                    0\n",
              "     2     0                    0\n",
              "...                           ...\n",
              "2015 6     3                    0\n",
              "     7     0                    0\n",
              "           1                    0\n",
              "           2                    0\n",
              "           3                    5\n",
              "\n",
              "[124 rows x 1 columns]"
            ]
          },
          "metadata": {
            "tags": []
          },
          "execution_count": 21
        }
      ]
    },
    {
      "cell_type": "code",
      "metadata": {
        "id": "6Vjmyj3bBae4"
      },
      "source": [
        "df=df.merge(Holiday_Year_Month_Week_df, on=[\"Year\",\"Month\",\"Week\"],how=\"inner\")"
      ],
      "execution_count": 22,
      "outputs": []
    },
    {
      "cell_type": "markdown",
      "metadata": {
        "id": "237avAIUBae6"
      },
      "source": [
        "Adding additional features, that records the avg. no. of Customers per month and avg. no. of Customers per week"
      ]
    },
    {
      "cell_type": "code",
      "metadata": {
        "id": "FWWYqF8GBae6",
        "colab": {
          "base_uri": "https://localhost:8080/",
          "height": 432
        },
        "outputId": "17826786-2659-44f9-f371-b021a54b0841"
      },
      "source": [
        "customer_time_df=pd.DataFrame({\"Avg CustomersPerMonth\":df[\"Customers\"],\"Month\":df[\"Month\"]})\n",
        "AvgCustomerperMonth=customer_time_df.groupby(\"Month\").mean()\n",
        "AvgCustomerperMonth"
      ],
      "execution_count": 23,
      "outputs": [
        {
          "output_type": "execute_result",
          "data": {
            "text/html": [
              "<div>\n",
              "<style scoped>\n",
              "    .dataframe tbody tr th:only-of-type {\n",
              "        vertical-align: middle;\n",
              "    }\n",
              "\n",
              "    .dataframe tbody tr th {\n",
              "        vertical-align: top;\n",
              "    }\n",
              "\n",
              "    .dataframe thead th {\n",
              "        text-align: right;\n",
              "    }\n",
              "</style>\n",
              "<table border=\"1\" class=\"dataframe\">\n",
              "  <thead>\n",
              "    <tr style=\"text-align: right;\">\n",
              "      <th></th>\n",
              "      <th>Avg CustomersPerMonth</th>\n",
              "    </tr>\n",
              "    <tr>\n",
              "      <th>Month</th>\n",
              "      <th></th>\n",
              "    </tr>\n",
              "  </thead>\n",
              "  <tbody>\n",
              "    <tr>\n",
              "      <th>1</th>\n",
              "      <td>600.872808</td>\n",
              "    </tr>\n",
              "    <tr>\n",
              "      <th>2</th>\n",
              "      <td>625.500000</td>\n",
              "    </tr>\n",
              "    <tr>\n",
              "      <th>3</th>\n",
              "      <td>628.030088</td>\n",
              "    </tr>\n",
              "    <tr>\n",
              "      <th>4</th>\n",
              "      <td>628.665959</td>\n",
              "    </tr>\n",
              "    <tr>\n",
              "      <th>5</th>\n",
              "      <td>599.796268</td>\n",
              "    </tr>\n",
              "    <tr>\n",
              "      <th>6</th>\n",
              "      <td>622.774499</td>\n",
              "    </tr>\n",
              "    <tr>\n",
              "      <th>7</th>\n",
              "      <td>654.703236</td>\n",
              "    </tr>\n",
              "    <tr>\n",
              "      <th>8</th>\n",
              "      <td>640.718253</td>\n",
              "    </tr>\n",
              "    <tr>\n",
              "      <th>9</th>\n",
              "      <td>633.189317</td>\n",
              "    </tr>\n",
              "    <tr>\n",
              "      <th>10</th>\n",
              "      <td>629.517325</td>\n",
              "    </tr>\n",
              "    <tr>\n",
              "      <th>11</th>\n",
              "      <td>652.390634</td>\n",
              "    </tr>\n",
              "    <tr>\n",
              "      <th>12</th>\n",
              "      <td>699.098505</td>\n",
              "    </tr>\n",
              "  </tbody>\n",
              "</table>\n",
              "</div>"
            ],
            "text/plain": [
              "       Avg CustomersPerMonth\n",
              "Month                       \n",
              "1                 600.872808\n",
              "2                 625.500000\n",
              "3                 628.030088\n",
              "4                 628.665959\n",
              "5                 599.796268\n",
              "6                 622.774499\n",
              "7                 654.703236\n",
              "8                 640.718253\n",
              "9                 633.189317\n",
              "10                629.517325\n",
              "11                652.390634\n",
              "12                699.098505"
            ]
          },
          "metadata": {
            "tags": []
          },
          "execution_count": 23
        }
      ]
    },
    {
      "cell_type": "code",
      "metadata": {
        "id": "yB22PMc_Bae8",
        "colab": {
          "base_uri": "https://localhost:8080/",
          "height": 431
        },
        "outputId": "57aed43c-fa7b-488f-c35e-ba2e3fd537b0"
      },
      "source": [
        "customer_time_df=pd.DataFrame({\"Avg CustomersPerWeek\":df[\"Customers\"],\"Week\":df[\"Week\"],\"Year\":df[\"Year\"],\"Month\":df[\"Month\"]})\n",
        "AvgCustomerperWeek=customer_time_df.groupby([\"Year\",\"Month\",\"Week\"]).mean()\n",
        "AvgCustomerperWeek"
      ],
      "execution_count": 24,
      "outputs": [
        {
          "output_type": "execute_result",
          "data": {
            "text/html": [
              "<div>\n",
              "<style scoped>\n",
              "    .dataframe tbody tr th:only-of-type {\n",
              "        vertical-align: middle;\n",
              "    }\n",
              "\n",
              "    .dataframe tbody tr th {\n",
              "        vertical-align: top;\n",
              "    }\n",
              "\n",
              "    .dataframe thead th {\n",
              "        text-align: right;\n",
              "    }\n",
              "</style>\n",
              "<table border=\"1\" class=\"dataframe\">\n",
              "  <thead>\n",
              "    <tr style=\"text-align: right;\">\n",
              "      <th></th>\n",
              "      <th></th>\n",
              "      <th></th>\n",
              "      <th>Avg CustomersPerWeek</th>\n",
              "    </tr>\n",
              "    <tr>\n",
              "      <th>Year</th>\n",
              "      <th>Month</th>\n",
              "      <th>Week</th>\n",
              "      <th></th>\n",
              "    </tr>\n",
              "  </thead>\n",
              "  <tbody>\n",
              "    <tr>\n",
              "      <th rowspan=\"5\" valign=\"top\">2013</th>\n",
              "      <th rowspan=\"4\" valign=\"top\">1</th>\n",
              "      <th>0</th>\n",
              "      <td>629.859577</td>\n",
              "    </tr>\n",
              "    <tr>\n",
              "      <th>1</th>\n",
              "      <td>539.328011</td>\n",
              "    </tr>\n",
              "    <tr>\n",
              "      <th>2</th>\n",
              "      <td>668.746829</td>\n",
              "    </tr>\n",
              "    <tr>\n",
              "      <th>3</th>\n",
              "      <td>538.288533</td>\n",
              "    </tr>\n",
              "    <tr>\n",
              "      <th>2</th>\n",
              "      <th>0</th>\n",
              "      <td>648.614862</td>\n",
              "    </tr>\n",
              "    <tr>\n",
              "      <th>...</th>\n",
              "      <th>...</th>\n",
              "      <th>...</th>\n",
              "      <td>...</td>\n",
              "    </tr>\n",
              "    <tr>\n",
              "      <th rowspan=\"5\" valign=\"top\">2015</th>\n",
              "      <th>6</th>\n",
              "      <th>3</th>\n",
              "      <td>716.866069</td>\n",
              "    </tr>\n",
              "    <tr>\n",
              "      <th rowspan=\"4\" valign=\"top\">7</th>\n",
              "      <th>0</th>\n",
              "      <td>598.104420</td>\n",
              "    </tr>\n",
              "    <tr>\n",
              "      <th>1</th>\n",
              "      <td>670.248174</td>\n",
              "    </tr>\n",
              "    <tr>\n",
              "      <th>2</th>\n",
              "      <td>572.498655</td>\n",
              "    </tr>\n",
              "    <tr>\n",
              "      <th>3</th>\n",
              "      <td>701.697758</td>\n",
              "    </tr>\n",
              "  </tbody>\n",
              "</table>\n",
              "<p>124 rows × 1 columns</p>\n",
              "</div>"
            ],
            "text/plain": [
              "                 Avg CustomersPerWeek\n",
              "Year Month Week                      \n",
              "2013 1     0               629.859577\n",
              "           1               539.328011\n",
              "           2               668.746829\n",
              "           3               538.288533\n",
              "     2     0               648.614862\n",
              "...                               ...\n",
              "2015 6     3               716.866069\n",
              "     7     0               598.104420\n",
              "           1               670.248174\n",
              "           2               572.498655\n",
              "           3               701.697758\n",
              "\n",
              "[124 rows x 1 columns]"
            ]
          },
          "metadata": {
            "tags": []
          },
          "execution_count": 24
        }
      ]
    },
    {
      "cell_type": "code",
      "metadata": {
        "id": "wYnfTrEfBae-"
      },
      "source": [
        "df=df.merge(AvgCustomerperMonth,on=\"Month\",how=\"inner\")\n",
        "df=df.merge(AvgCustomerperWeek,on=[\"Year\",\"Month\",\"Week\"],how=\"inner\")"
      ],
      "execution_count": 25,
      "outputs": []
    },
    {
      "cell_type": "markdown",
      "metadata": {
        "id": "KILn9r1rBafB"
      },
      "source": [
        "adding an additional feature that records the no. of promo per week"
      ]
    },
    {
      "cell_type": "code",
      "metadata": {
        "id": "w9uXDvIyBafB",
        "colab": {
          "base_uri": "https://localhost:8080/",
          "height": 431
        },
        "outputId": "62625593-5760-44cd-e8c2-5fad4694ed13"
      },
      "source": [
        "promo_time_df=pd.DataFrame({\"PromoCountperWeek\":df[\"Promo\"],\"Year\":df[\"Year\"],\"Month\":df[\"Month\"],\"Week\":df[\"Week\"],\"Date\":df[\"Date\"]})\n",
        "promo_time_df=promo_time_df.drop_duplicates(subset=['Date'])\n",
        "promo_time_df=promo_time_df.groupby([\"Year\",\"Month\",\"Week\"]).sum()\n",
        "promo_time_df"
      ],
      "execution_count": 26,
      "outputs": [
        {
          "output_type": "execute_result",
          "data": {
            "text/html": [
              "<div>\n",
              "<style scoped>\n",
              "    .dataframe tbody tr th:only-of-type {\n",
              "        vertical-align: middle;\n",
              "    }\n",
              "\n",
              "    .dataframe tbody tr th {\n",
              "        vertical-align: top;\n",
              "    }\n",
              "\n",
              "    .dataframe thead th {\n",
              "        text-align: right;\n",
              "    }\n",
              "</style>\n",
              "<table border=\"1\" class=\"dataframe\">\n",
              "  <thead>\n",
              "    <tr style=\"text-align: right;\">\n",
              "      <th></th>\n",
              "      <th></th>\n",
              "      <th></th>\n",
              "      <th>PromoCountperWeek</th>\n",
              "    </tr>\n",
              "    <tr>\n",
              "      <th>Year</th>\n",
              "      <th>Month</th>\n",
              "      <th>Week</th>\n",
              "      <th></th>\n",
              "    </tr>\n",
              "  </thead>\n",
              "  <tbody>\n",
              "    <tr>\n",
              "      <th rowspan=\"5\" valign=\"top\">2013</th>\n",
              "      <th rowspan=\"4\" valign=\"top\">1</th>\n",
              "      <th>0</th>\n",
              "      <td>5</td>\n",
              "    </tr>\n",
              "    <tr>\n",
              "      <th>1</th>\n",
              "      <td>0</td>\n",
              "    </tr>\n",
              "    <tr>\n",
              "      <th>2</th>\n",
              "      <td>5</td>\n",
              "    </tr>\n",
              "    <tr>\n",
              "      <th>3</th>\n",
              "      <td>0</td>\n",
              "    </tr>\n",
              "    <tr>\n",
              "      <th>2</th>\n",
              "      <th>0</th>\n",
              "      <td>5</td>\n",
              "    </tr>\n",
              "    <tr>\n",
              "      <th>...</th>\n",
              "      <th>...</th>\n",
              "      <th>...</th>\n",
              "      <td>...</td>\n",
              "    </tr>\n",
              "    <tr>\n",
              "      <th rowspan=\"5\" valign=\"top\">2015</th>\n",
              "      <th>6</th>\n",
              "      <th>3</th>\n",
              "      <td>7</td>\n",
              "    </tr>\n",
              "    <tr>\n",
              "      <th rowspan=\"4\" valign=\"top\">7</th>\n",
              "      <th>0</th>\n",
              "      <td>0</td>\n",
              "    </tr>\n",
              "    <tr>\n",
              "      <th>1</th>\n",
              "      <td>5</td>\n",
              "    </tr>\n",
              "    <tr>\n",
              "      <th>2</th>\n",
              "      <td>0</td>\n",
              "    </tr>\n",
              "    <tr>\n",
              "      <th>3</th>\n",
              "      <td>8</td>\n",
              "    </tr>\n",
              "  </tbody>\n",
              "</table>\n",
              "<p>124 rows × 1 columns</p>\n",
              "</div>"
            ],
            "text/plain": [
              "                 PromoCountperWeek\n",
              "Year Month Week                   \n",
              "2013 1     0                     5\n",
              "           1                     0\n",
              "           2                     5\n",
              "           3                     0\n",
              "     2     0                     5\n",
              "...                            ...\n",
              "2015 6     3                     7\n",
              "     7     0                     0\n",
              "           1                     5\n",
              "           2                     0\n",
              "           3                     8\n",
              "\n",
              "[124 rows x 1 columns]"
            ]
          },
          "metadata": {
            "tags": []
          },
          "execution_count": 26
        }
      ]
    },
    {
      "cell_type": "code",
      "metadata": {
        "id": "6-hFXGUEBafD"
      },
      "source": [
        "df=df.merge(promo_time_df,on=[\"Year\",\"Month\",\"Week\"], how=\"inner\")"
      ],
      "execution_count": 27,
      "outputs": []
    },
    {
      "cell_type": "markdown",
      "metadata": {
        "id": "SH91g7XxBafF"
      },
      "source": [
        "combining 'CompetitionSinceMonth' & 'CompetitionSinceYear' into 'CompetitionSince'"
      ]
    },
    {
      "cell_type": "code",
      "metadata": {
        "id": "UI2ZpCzqBafF"
      },
      "source": [
        "df=df.rename(columns={'CompetitionOpenSinceYear': 'year','CompetitionOpenSinceMonth':'month'})\n",
        "df['CompetitionOpenSince'] = pd.to_datetime(df[['year', 'month']].assign(DAY=1))\n",
        "df=df.rename(columns={ 'year':'CompetitionOpenSinceYear','month':'CompetitionOpenSinceMonth'})"
      ],
      "execution_count": 28,
      "outputs": []
    },
    {
      "cell_type": "markdown",
      "metadata": {
        "id": "y2DNdw04BafH"
      },
      "source": [
        "# Handling Categorical Data"
      ]
    },
    {
      "cell_type": "markdown",
      "metadata": {
        "id": "6O8C2Rf0BafH"
      },
      "source": [
        "The columns StoreType, Assortment, Season have char type or String type values, all of this need to converted to a numerical value"
      ]
    },
    {
      "cell_type": "code",
      "metadata": {
        "id": "YmDb8W3yBafH"
      },
      "source": [
        "numerical_data_col=[\"Store\",\"Competition Distance\",\"Promo2\",\"DayOfWeek\",\"Sales\",\"Customers\",\"Open\",\"SchoolHoliday\",\"Year\",\"Month\",\"Day\",\"Week\"]\n",
        "categorical_data_col=[\"StoreType\",\"Assortment\",\"Season\"]"
      ],
      "execution_count": 29,
      "outputs": []
    },
    {
      "cell_type": "code",
      "metadata": {
        "id": "fYvKEEbhBafJ"
      },
      "source": [
        "for i in categorical_data_col:\n",
        "    p=0\n",
        "    for j in df[i].unique():\n",
        "        df[i]=np.where(df[i]==j,p,df[i])\n",
        "        p=p+1\n",
        "\n",
        "    df[i]=df[i].astype(int)"
      ],
      "execution_count": 30,
      "outputs": []
    },
    {
      "cell_type": "code",
      "metadata": {
        "id": "J_oIyBNbBafL",
        "colab": {
          "base_uri": "https://localhost:8080/"
        },
        "outputId": "0bd5223e-72f4-4b9b-9428-d8da62f3c93e"
      },
      "source": [
        "#The column StateHoliday contains 0,'0',a and b. This needs to be conerted to a pure numerical data column\n",
        "df[\"StateHoliday\"].unique()"
      ],
      "execution_count": 31,
      "outputs": [
        {
          "output_type": "execute_result",
          "data": {
            "text/plain": [
              "array(['0', 0, 'a', 'b', 'c'], dtype=object)"
            ]
          },
          "metadata": {
            "tags": []
          },
          "execution_count": 31
        }
      ]
    },
    {
      "cell_type": "code",
      "metadata": {
        "id": "6irtvv8oBafM"
      },
      "source": [
        "df[\"StateHoliday\"]=np.where(df[\"StateHoliday\"] == '0' ,0,1)\n",
        "df[\"StateHoliday\"]=df[\"StateHoliday\"].astype(int)"
      ],
      "execution_count": 32,
      "outputs": []
    },
    {
      "cell_type": "markdown",
      "metadata": {
        "id": "BsOvr0ziBafO"
      },
      "source": [
        "# EDA"
      ]
    },
    {
      "cell_type": "markdown",
      "metadata": {
        "id": "EgctweABBafO"
      },
      "source": [
        "## Are the promos effective?"
      ]
    },
    {
      "cell_type": "code",
      "metadata": {
        "id": "jA5j001ZBafP",
        "colab": {
          "base_uri": "https://localhost:8080/",
          "height": 628
        },
        "outputId": "24f9df4b-9b1f-4bf6-b66e-4b3aaa261d4f"
      },
      "source": [
        "plt.figure(figsize=(10,10))\n",
        "sns.set(style=\"whitegrid\",palette=\"pastel\",color_codes=True)\n",
        "sns.violinplot(x=\"DayOfWeek\",y=\"Sales\",hue=\"Promo\",split=True, data=df)"
      ],
      "execution_count": 33,
      "outputs": [
        {
          "output_type": "execute_result",
          "data": {
            "text/plain": [
              "<matplotlib.axes._subplots.AxesSubplot at 0x7ff72414c5f8>"
            ]
          },
          "metadata": {
            "tags": []
          },
          "execution_count": 33
        },
        {
          "output_type": "display_data",
          "data": {
            "image/png": "[encoded data removed]",
            "text/plain": [
              "<Figure size 720x720 with 1 Axes>"
            ]
          },
          "metadata": {
            "tags": []
          }
        }
      ]
    },
    {
      "cell_type": "markdown",
      "metadata": {
        "id": "Yjgt0zj7BafQ"
      },
      "source": [
        "The days promos were present have indeed shown a slight improvement in Sales.\n",
        "The plot above also shows that there was no promo offered on 6th and the 7th day of the week (Saturday and Sunday), and stores didn't suffer for doing so either, as it can be seen the no. of customers on the weekends, were more that that during the weekdays."
      ]
    },
    {
      "cell_type": "code",
      "metadata": {
        "id": "jhgxXdIZBafQ",
        "colab": {
          "base_uri": "https://localhost:8080/",
          "height": 628
        },
        "outputId": "3a38e09e-0c6c-4ba9-bcb1-ec06734d34ca"
      },
      "source": [
        "plt.figure(figsize=(10,10))\n",
        "sns.set(style=\"whitegrid\",palette=\"pastel\",color_codes=True)\n",
        "sns.violinplot(x=\"DayOfWeek\",y=\"Customers\",hue=\"Promo\",split=True, data=df)"
      ],
      "execution_count": 34,
      "outputs": [
        {
          "output_type": "execute_result",
          "data": {
            "text/plain": [
              "<matplotlib.axes._subplots.AxesSubplot at 0x7ff72478e2e8>"
            ]
          },
          "metadata": {
            "tags": []
          },
          "execution_count": 34
        },
        {
          "output_type": "display_data",
          "data": {
            "image/png": "[encoded data removed]",
            "text/plain": [
              "<Figure size 720x720 with 1 Axes>"
            ]
          },
          "metadata": {
            "tags": []
          }
        }
      ]
    },
    {
      "cell_type": "markdown",
      "metadata": {
        "id": "MGyRhTXVBafS"
      },
      "source": [
        "## Does competition distance matter?"
      ]
    },
    {
      "cell_type": "code",
      "metadata": {
        "id": "m2-WXP3NBafS",
        "colab": {
          "base_uri": "https://localhost:8080/",
          "height": 900
        },
        "outputId": "ad0be244-e369-406d-e9c9-0c09d240d001"
      },
      "source": [
        "plt.figure(figsize=(15,15))\n",
        "sns.set(style=\"whitegrid\")\n",
        "df[\"CompetitionDistanceLOG\"]=np.log(df[\"CompetitionDistance\"])\n",
        "sns.lineplot(x=\"CompetitionDistanceLOG\", y=\"Sales\", data=df)"
      ],
      "execution_count": 35,
      "outputs": [
        {
          "output_type": "execute_result",
          "data": {
            "text/plain": [
              "<matplotlib.axes._subplots.AxesSubplot at 0x7ff7207c8f60>"
            ]
          },
          "metadata": {
            "tags": []
          },
          "execution_count": 35
        },
        {
          "output_type": "display_data",
          "data": {
            "image/png": "[encoded data removed]",
            "text/plain": [
              "<Figure size 1080x1080 with 1 Axes>"
            ]
          },
          "metadata": {
            "tags": []
          }
        }
      ]
    },
    {
      "cell_type": "markdown",
      "metadata": {
        "id": "uz4iM6jRBafU"
      },
      "source": [
        "Competition Distance does seem to affect Sales. The stores with less CompetitionDistance didn't make more Sales."
      ]
    },
    {
      "cell_type": "markdown",
      "metadata": {
        "id": "B9oxBJXGBafU"
      },
      "source": [
        "## Is there a surge of customers during SchoolHolidays?"
      ]
    },
    {
      "cell_type": "code",
      "metadata": {
        "id": "VzcZYIJZBafV",
        "colab": {
          "base_uri": "https://localhost:8080/",
          "height": 697
        },
        "outputId": "d2b59dbb-c484-4201-9aad-52bee9f90dfb"
      },
      "source": [
        "sns.set(style=\"whitegrid\")\n",
        "g=sns.relplot(y=\"Avg CustomersPerWeek\", x=\"Week\", hue=\"Holiday per week\", data=df)\n",
        "g.fig.set_size_inches(10,10)"
      ],
      "execution_count": 36,
      "outputs": [
        {
          "output_type": "display_data",
          "data": {
            "image/png": "[encoded data removed]",
            "text/plain": [
              "<Figure size 720x720 with 1 Axes>"
            ]
          },
          "metadata": {
            "tags": []
          }
        }
      ]
    },
    {
      "cell_type": "markdown",
      "metadata": {
        "id": "mS-6QoUxBafW"
      },
      "source": [
        "It doesn't look like there is a big difference in the no. of customers even if there were 4 School Holidays that week"
      ]
    },
    {
      "cell_type": "markdown",
      "metadata": {
        "id": "f4XAds8EBafX"
      },
      "source": [
        "## Is there an increase in promo if it is a School Holiday?"
      ]
    },
    {
      "cell_type": "code",
      "metadata": {
        "id": "TpMHAjTBBafX",
        "colab": {
          "base_uri": "https://localhost:8080/",
          "height": 697
        },
        "outputId": "d6be0c89-f99a-4ed9-8863-9ae0dd1bf8d7"
      },
      "source": [
        "sns.set(style=\"whitegrid\")\n",
        "g=sns.relplot(y=\"Holiday per week\", x=\"Week\", hue=\"PromoCountperWeek\", data=df)\n",
        "g.fig.set_size_inches(10,10)"
      ],
      "execution_count": 37,
      "outputs": [
        {
          "output_type": "display_data",
          "data": {
            "image/png": "[encoded data removed]",
            "text/plain": [
              "<Figure size 720x720 with 1 Axes>"
            ]
          },
          "metadata": {
            "tags": []
          }
        }
      ]
    },
    {
      "cell_type": "markdown",
      "metadata": {
        "id": "pIQb1CiMBafZ"
      },
      "source": [
        "It doesn't seem like the Holidays had any effect on promo and Customers."
      ]
    },
    {
      "cell_type": "markdown",
      "metadata": {
        "id": "LXg5P_HZBafZ"
      },
      "source": [
        "# Feature Engineering"
      ]
    },
    {
      "cell_type": "markdown",
      "metadata": {
        "id": "cN2g4hbmBafZ"
      },
      "source": [
        "## Finding location of stores"
      ]
    },
    {
      "cell_type": "code",
      "metadata": {
        "id": "axdhbyMtBafa",
        "colab": {
          "base_uri": "https://localhost:8080/"
        },
        "outputId": "fde915f6-bd18-4384-cd7f-66ef9ccbc93b"
      },
      "source": [
        "#using public state holidays data from https://www.timeanddate.com/holidays/germany/2013\n",
        "holid=df.loc[df.StateHoliday=='a']\n",
        "bydate=df.groupby('Date')['Store'].count()\n",
        "#number of stores celebrating holidays\n",
        "bydate.head()"
      ],
      "execution_count": 38,
      "outputs": [
        {
          "output_type": "execute_result",
          "data": {
            "text/plain": [
              "Date\n",
              "2013-01-01    1114\n",
              "2013-01-02    1115\n",
              "2013-01-03    1115\n",
              "2013-01-04    1115\n",
              "2013-01-05    1115\n",
              "Name: Store, dtype: int64"
            ]
          },
          "metadata": {
            "tags": []
          },
          "execution_count": 38
        }
      ]
    },
    {
      "cell_type": "code",
      "metadata": {
        "id": "hVn33XswBafc",
        "colab": {
          "base_uri": "https://localhost:8080/"
        },
        "outputId": "64cdd481-2064-46db-a599-a07ff944c00f"
      },
      "source": [
        "#Figuring out store locations based on state holidays\n",
        "SN = holid.loc[holid.Date == '2013-11-20','Store'].values\n",
        "print('{} stores located in Saxony.'.format(SN.shape[0]))\n",
        "BW_BY_ST = holid.loc[holid.Date == '2013-01-06','Store'].values\n",
        "print('{} stores located in BW, BY, ST.'.format(BW_BY_ST.shape[0]))\n",
        "BW_BY_HE_NW_RP_SL = holid.loc[holid.Date == '2013-05-30','Store'].values\n",
        "print('{} stores located in BW, BY, HE, NW, RP, SL.'.format(BW_BY_HE_NW_RP_SL.shape[0]))\n",
        "BY_SL = holid.loc[holid.Date =='2013-08-15','Store'].values\n",
        "print('{} stores located in BY,SL.'.format(BY_SL.shape[0]))\n",
        "BB_MV_SN_ST_TH = holid.loc[holid.Date =='2013-10-31','Store'].values\n",
        "print('{} stores located in BB, MV, SN, ST, TH.'.format(BB_MV_SN_ST_TH.shape[0]))\n",
        "BW_BY_NW_RP_SL = holid.loc[holid.Date =='2013-11-01','Store'].values\n",
        "print('{} stores located in BW, BY, NW, RP, SL.'.format(BW_BY_NW_RP_SL.shape[0]))\n",
        "BW_BY = np.intersect1d(BW_BY_ST, BW_BY_HE_NW_RP_SL)\n",
        "print('{} stores located in BW, BY.'.format(BW_BY.shape[0]))"
      ],
      "execution_count": 39,
      "outputs": [
        {
          "output_type": "stream",
          "text": [
            "0 stores located in Saxony.\n",
            "0 stores located in BW, BY, ST.\n",
            "0 stores located in BW, BY, HE, NW, RP, SL.\n",
            "0 stores located in BY,SL.\n",
            "0 stores located in BB, MV, SN, ST, TH.\n",
            "0 stores located in BW, BY, NW, RP, SL.\n",
            "0 stores located in BW, BY.\n"
          ],
          "name": "stdout"
        }
      ]
    },
    {
      "cell_type": "code",
      "metadata": {
        "id": "7Sfh9FAgBafd",
        "colab": {
          "base_uri": "https://localhost:8080/"
        },
        "outputId": "bf768eb7-96a9-4427-880e-1b95266f631f"
      },
      "source": [
        "ST = np.setxor1d(BW_BY_ST, BW_BY)\n",
        "print('{} stores located in ST.'.format(ST.shape[0]))\n",
        "BY = np.intersect1d(BW_BY, BY_SL)\n",
        "print('{} stores located in BY.'.format(BY.shape[0]))\n",
        "SL = np.setxor1d(BY, BY_SL)\n",
        "print('{} stores located in SL.'.format(SL.shape[0]))\n",
        "BW = np.setxor1d(BW_BY, BY)\n",
        "print('{} stores located in BW.'.format(BW.shape[0]))\n",
        "HE = np.setxor1d(BW_BY_HE_NW_RP_SL,BW_BY_NW_RP_SL)\n",
        "print('{} stores located in HE.'.format(HE.shape[0]))\n",
        "BB_MV_TH = np.setxor1d(np.setxor1d(BB_MV_SN_ST_TH,SN),ST)\n",
        "print('{} stores located in BB, MV, TH.'.format(BB_MV_TH.shape[0]))\n",
        "NW_RP = np.setxor1d(BW_BY_NW_RP_SL,BW_BY) # SL has 0 stores\n",
        "print('{} stores located in NW, RP.'.format(NW_RP.shape[0]))\n",
        "allstores = np.unique(df.Store.values)\n",
        "BE_HB_HH_NI_SH = np.setxor1d(np.setxor1d(allstores,BW_BY_HE_NW_RP_SL),BB_MV_SN_ST_TH)\n",
        "print('{} stores located in BE, HB, HH, NI, SH.'.format(BE_HB_HH_NI_SH.shape[0]))"
      ],
      "execution_count": 40,
      "outputs": [
        {
          "output_type": "stream",
          "text": [
            "0 stores located in ST.\n",
            "0 stores located in BY.\n",
            "0 stores located in SL.\n",
            "0 stores located in BW.\n",
            "0 stores located in HE.\n",
            "0 stores located in BB, MV, TH.\n",
            "0 stores located in NW, RP.\n",
            "1115 stores located in BE, HB, HH, NI, SH.\n"
          ],
          "name": "stdout"
        }
      ]
    },
    {
      "cell_type": "code",
      "metadata": {
        "id": "k373miYVBafg",
        "colab": {
          "base_uri": "https://localhost:8080/"
        },
        "outputId": "9567ee68-7db1-44fe-e672-eedda5ef72b6"
      },
      "source": [
        "#using public school holidays data from http://www.holidays-info.com/School-Holidays-Germany/2015/school-holidays_2015.html.\n",
        "#furthur division based on school holidays \n",
        "df.loc[df.Store.isin(NW_RP)].groupby('Date')['SchoolHoliday'].sum().value_counts()\n",
        "RP = df.loc[df.Date=='2015-03-26'].loc[df.Store.isin(NW_RP)].loc[df.SchoolHoliday==1,'Store'].values\n",
        "NW = np.setxor1d(NW_RP,RP)\n",
        "print('{} stores located in RP.'.format(RP.shape[0]))\n",
        "print('{} stores located in NW.'.format(NW.shape[0]))\n",
        "df.loc[df.Store.isin(BB_MV_TH)].groupby('Date')['SchoolHoliday'].sum().value_counts()\n",
        "TH = BB_MV_TH\n",
        "print('{} stores located in TH.'.format(TH.shape[0]))\n",
        "HH = df.loc[df.Date=='2015-03-02'].loc[df.Store.isin(BE_HB_HH_NI_SH)].loc[df.SchoolHoliday==1,'Store'].values\n",
        "print('{} stores located in HH.'.format(HH.shape[0]))\n",
        "BE_HB_NI_SH = np.setxor1d(BE_HB_HH_NI_SH,HH)\n",
        "SH = df.loc[df.Date=='2015-04-17'].loc[df.Store.isin(BE_HB_NI_SH)].loc[df.SchoolHoliday==1,'Store'].values\n",
        "print('{} stores located in SH.'.format(SH.shape[0]))\n",
        "BE_HB_NI = np.setxor1d(BE_HB_NI_SH,SH)\n",
        "BE = df.loc[df.Date=='2015-03-25'].loc[df.Store.isin(BE_HB_NI)].loc[df.SchoolHoliday==0,'Store'].values\n",
        "print('{} stores located in BE.'.format(BE.shape[0]))\n",
        "HB_NI = np.setxor1d(BE_HB_NI,BE)"
      ],
      "execution_count": 41,
      "outputs": [
        {
          "output_type": "stream",
          "text": [
            "0 stores located in RP.\n",
            "0 stores located in NW.\n",
            "0 stores located in TH.\n",
            "28 stores located in HH.\n",
            "115 stores located in SH.\n",
            "950 stores located in BE.\n"
          ],
          "name": "stdout"
        }
      ]
    },
    {
      "cell_type": "code",
      "metadata": {
        "id": "EHkRec-XBafk"
      },
      "source": [
        "states = pd.Series('',index = allstores,name='State')\n",
        "states.loc[BW] = 'BW'\n",
        "states.loc[BY] = 'BY'\n",
        "states.loc[BE] = 'BE'\n",
        "states.loc[HB_NI] = 'HB,NI'\n",
        "states.loc[HH] = 'HH'\n",
        "states.loc[HE] = 'HE'\n",
        "states.loc[NW] = 'NW'\n",
        "states.loc[RP] = 'RP'\n",
        "states.loc[SN] = 'SN'\n",
        "states.loc[ST] = 'ST'\n",
        "states.loc[SH] = 'SH'\n",
        "states.loc[TH] = 'TH'\n",
        "states[states!=''].value_counts().sum()\n",
        "states.to_csv('location.csv', header=True, index_label='Store')"
      ],
      "execution_count": 42,
      "outputs": []
    },
    {
      "cell_type": "code",
      "metadata": {
        "id": "VqWV1PUHBafm",
        "colab": {
          "base_uri": "https://localhost:8080/",
          "height": 225
        },
        "outputId": "2c9f892e-05f1-4eea-fdcf-b0689bbb63b0"
      },
      "source": [
        "location_df=pd.read_csv('/content/drive/My Drive/Colab Notebooks/data/rossmann-store-sales/location.csv',index_col=\"Store\")\n",
        "location_df.head()"
      ],
      "execution_count": 43,
      "outputs": [
        {
          "output_type": "execute_result",
          "data": {
            "text/html": [
              "<div>\n",
              "<style scoped>\n",
              "    .dataframe tbody tr th:only-of-type {\n",
              "        vertical-align: middle;\n",
              "    }\n",
              "\n",
              "    .dataframe tbody tr th {\n",
              "        vertical-align: top;\n",
              "    }\n",
              "\n",
              "    .dataframe thead th {\n",
              "        text-align: right;\n",
              "    }\n",
              "</style>\n",
              "<table border=\"1\" class=\"dataframe\">\n",
              "  <thead>\n",
              "    <tr style=\"text-align: right;\">\n",
              "      <th></th>\n",
              "      <th>State</th>\n",
              "    </tr>\n",
              "    <tr>\n",
              "      <th>Store</th>\n",
              "      <th></th>\n",
              "    </tr>\n",
              "  </thead>\n",
              "  <tbody>\n",
              "    <tr>\n",
              "      <th>1</th>\n",
              "      <td>HE</td>\n",
              "    </tr>\n",
              "    <tr>\n",
              "      <th>2</th>\n",
              "      <td>TH</td>\n",
              "    </tr>\n",
              "    <tr>\n",
              "      <th>3</th>\n",
              "      <td>NW</td>\n",
              "    </tr>\n",
              "    <tr>\n",
              "      <th>4</th>\n",
              "      <td>BE</td>\n",
              "    </tr>\n",
              "    <tr>\n",
              "      <th>5</th>\n",
              "      <td>SN</td>\n",
              "    </tr>\n",
              "  </tbody>\n",
              "</table>\n",
              "</div>"
            ],
            "text/plain": [
              "      State\n",
              "Store      \n",
              "1        HE\n",
              "2        TH\n",
              "3        NW\n",
              "4        BE\n",
              "5        SN"
            ]
          },
          "metadata": {
            "tags": []
          },
          "execution_count": 43
        }
      ]
    },
    {
      "cell_type": "code",
      "metadata": {
        "id": "JDA49IVdBafn"
      },
      "source": [
        "df=df.merge(location_df,on='Store',how=\"inner\")"
      ],
      "execution_count": 44,
      "outputs": []
    },
    {
      "cell_type": "markdown",
      "metadata": {
        "id": "L7C14Z-ABafp"
      },
      "source": [
        "## Adding weather data"
      ]
    },
    {
      "cell_type": "code",
      "metadata": {
        "id": "Nu_wwUQDBafp"
      },
      "source": [
        "weather_df=pd.read_csv(\"/content/drive/My Drive/Colab Notebooks/data/rossmann-store-sales/weather.csv\")"
      ],
      "execution_count": 45,
      "outputs": []
    },
    {
      "cell_type": "code",
      "metadata": {
        "id": "YLNNf7l-Bafr",
        "colab": {
          "base_uri": "https://localhost:8080/",
          "height": 383
        },
        "outputId": "9a5f1e56-9ec9-4c5b-a5ff-3e572d6ea28d"
      },
      "source": [
        "weather_df.head()"
      ],
      "execution_count": 46,
      "outputs": [
        {
          "output_type": "execute_result",
          "data": {
            "text/html": [
              "<div>\n",
              "<style scoped>\n",
              "    .dataframe tbody tr th:only-of-type {\n",
              "        vertical-align: middle;\n",
              "    }\n",
              "\n",
              "    .dataframe tbody tr th {\n",
              "        vertical-align: top;\n",
              "    }\n",
              "\n",
              "    .dataframe thead th {\n",
              "        text-align: right;\n",
              "    }\n",
              "</style>\n",
              "<table border=\"1\" class=\"dataframe\">\n",
              "  <thead>\n",
              "    <tr style=\"text-align: right;\">\n",
              "      <th></th>\n",
              "      <th>Date</th>\n",
              "      <th>Max_TemperatureC</th>\n",
              "      <th>Mean_TemperatureC</th>\n",
              "      <th>Min_TemperatureC</th>\n",
              "      <th>Dew_PointC</th>\n",
              "      <th>MeanDew_PointC</th>\n",
              "      <th>Min_DewpointC</th>\n",
              "      <th>Max_Humidity</th>\n",
              "      <th>Mean_Humidity</th>\n",
              "      <th>Min_Humidity</th>\n",
              "      <th>Max_Sea_Level_PressurehPa</th>\n",
              "      <th>Mean_Sea_Level_PressurehPa</th>\n",
              "      <th>Min_Sea_Level_PressurehPa</th>\n",
              "      <th>Max_VisibilityKm</th>\n",
              "      <th>Mean_VisibilityKm</th>\n",
              "      <th>Min_VisibilitykM</th>\n",
              "      <th>Max_Wind_SpeedKm_h</th>\n",
              "      <th>Mean_Wind_SpeedKm_h</th>\n",
              "      <th>Max_Gust_SpeedKm_h</th>\n",
              "      <th>Precipitationmm</th>\n",
              "      <th>CloudCover</th>\n",
              "      <th>Events</th>\n",
              "      <th>WindDirDegrees</th>\n",
              "      <th>State</th>\n",
              "    </tr>\n",
              "  </thead>\n",
              "  <tbody>\n",
              "    <tr>\n",
              "      <th>0</th>\n",
              "      <td>01-01-2013</td>\n",
              "      <td>8</td>\n",
              "      <td>6</td>\n",
              "      <td>4</td>\n",
              "      <td>7</td>\n",
              "      <td>6</td>\n",
              "      <td>2</td>\n",
              "      <td>100</td>\n",
              "      <td>90</td>\n",
              "      <td>77</td>\n",
              "      <td>1008</td>\n",
              "      <td>1001</td>\n",
              "      <td>998</td>\n",
              "      <td>31.0</td>\n",
              "      <td>11.0</td>\n",
              "      <td>6.0</td>\n",
              "      <td>29</td>\n",
              "      <td>23</td>\n",
              "      <td>NaN</td>\n",
              "      <td>6.10</td>\n",
              "      <td>6.0</td>\n",
              "      <td>Rain</td>\n",
              "      <td>235</td>\n",
              "      <td>HB</td>\n",
              "    </tr>\n",
              "    <tr>\n",
              "      <th>1</th>\n",
              "      <td>02-01-2013</td>\n",
              "      <td>7</td>\n",
              "      <td>5</td>\n",
              "      <td>3</td>\n",
              "      <td>5</td>\n",
              "      <td>4</td>\n",
              "      <td>3</td>\n",
              "      <td>93</td>\n",
              "      <td>88</td>\n",
              "      <td>81</td>\n",
              "      <td>1023</td>\n",
              "      <td>1017</td>\n",
              "      <td>1008</td>\n",
              "      <td>31.0</td>\n",
              "      <td>14.0</td>\n",
              "      <td>9.0</td>\n",
              "      <td>27</td>\n",
              "      <td>21</td>\n",
              "      <td>NaN</td>\n",
              "      <td>0.51</td>\n",
              "      <td>6.0</td>\n",
              "      <td>Rain</td>\n",
              "      <td>244</td>\n",
              "      <td>HB</td>\n",
              "    </tr>\n",
              "    <tr>\n",
              "      <th>2</th>\n",
              "      <td>03-01-2013</td>\n",
              "      <td>11</td>\n",
              "      <td>8</td>\n",
              "      <td>6</td>\n",
              "      <td>9</td>\n",
              "      <td>8</td>\n",
              "      <td>5</td>\n",
              "      <td>100</td>\n",
              "      <td>93</td>\n",
              "      <td>88</td>\n",
              "      <td>1030</td>\n",
              "      <td>1024</td>\n",
              "      <td>1020</td>\n",
              "      <td>26.0</td>\n",
              "      <td>9.0</td>\n",
              "      <td>3.0</td>\n",
              "      <td>32</td>\n",
              "      <td>23</td>\n",
              "      <td>NaN</td>\n",
              "      <td>1.02</td>\n",
              "      <td>6.0</td>\n",
              "      <td>Rain</td>\n",
              "      <td>260</td>\n",
              "      <td>HB</td>\n",
              "    </tr>\n",
              "    <tr>\n",
              "      <th>3</th>\n",
              "      <td>04-01-2013</td>\n",
              "      <td>10</td>\n",
              "      <td>8</td>\n",
              "      <td>7</td>\n",
              "      <td>9</td>\n",
              "      <td>8</td>\n",
              "      <td>6</td>\n",
              "      <td>100</td>\n",
              "      <td>92</td>\n",
              "      <td>87</td>\n",
              "      <td>1031</td>\n",
              "      <td>1029</td>\n",
              "      <td>1028</td>\n",
              "      <td>31.0</td>\n",
              "      <td>9.0</td>\n",
              "      <td>3.0</td>\n",
              "      <td>35</td>\n",
              "      <td>24</td>\n",
              "      <td>NaN</td>\n",
              "      <td>0.00</td>\n",
              "      <td>7.0</td>\n",
              "      <td>Rain</td>\n",
              "      <td>277</td>\n",
              "      <td>HB</td>\n",
              "    </tr>\n",
              "    <tr>\n",
              "      <th>4</th>\n",
              "      <td>05-01-2013</td>\n",
              "      <td>8</td>\n",
              "      <td>7</td>\n",
              "      <td>7</td>\n",
              "      <td>7</td>\n",
              "      <td>7</td>\n",
              "      <td>6</td>\n",
              "      <td>100</td>\n",
              "      <td>92</td>\n",
              "      <td>87</td>\n",
              "      <td>1031</td>\n",
              "      <td>1030</td>\n",
              "      <td>1028</td>\n",
              "      <td>14.0</td>\n",
              "      <td>8.0</td>\n",
              "      <td>4.0</td>\n",
              "      <td>29</td>\n",
              "      <td>23</td>\n",
              "      <td>NaN</td>\n",
              "      <td>0.00</td>\n",
              "      <td>8.0</td>\n",
              "      <td>Rain</td>\n",
              "      <td>293</td>\n",
              "      <td>HB</td>\n",
              "    </tr>\n",
              "  </tbody>\n",
              "</table>\n",
              "</div>"
            ],
            "text/plain": [
              "         Date  Max_TemperatureC  Mean_TemperatureC  ...  Events  WindDirDegrees  State\n",
              "0  01-01-2013                 8                  6  ...    Rain             235     HB\n",
              "1  02-01-2013                 7                  5  ...    Rain             244     HB\n",
              "2  03-01-2013                11                  8  ...    Rain             260     HB\n",
              "3  04-01-2013                10                  8  ...    Rain             277     HB\n",
              "4  05-01-2013                 8                  7  ...    Rain             293     HB\n",
              "\n",
              "[5 rows x 24 columns]"
            ]
          },
          "metadata": {
            "tags": []
          },
          "execution_count": 46
        }
      ]
    },
    {
      "cell_type": "code",
      "metadata": {
        "id": "Lib_JcGXBaft",
        "colab": {
          "base_uri": "https://localhost:8080/",
          "height": 304
        },
        "outputId": "70e554d2-0cb1-419f-9c02-ddd696ab6694"
      },
      "source": [
        "weather_df.describe()"
      ],
      "execution_count": 47,
      "outputs": [
        {
          "output_type": "execute_result",
          "data": {
            "text/html": [
              "<div>\n",
              "<style scoped>\n",
              "    .dataframe tbody tr th:only-of-type {\n",
              "        vertical-align: middle;\n",
              "    }\n",
              "\n",
              "    .dataframe tbody tr th {\n",
              "        vertical-align: top;\n",
              "    }\n",
              "\n",
              "    .dataframe thead th {\n",
              "        text-align: right;\n",
              "    }\n",
              "</style>\n",
              "<table border=\"1\" class=\"dataframe\">\n",
              "  <thead>\n",
              "    <tr style=\"text-align: right;\">\n",
              "      <th></th>\n",
              "      <th>Max_TemperatureC</th>\n",
              "      <th>Mean_TemperatureC</th>\n",
              "      <th>Min_TemperatureC</th>\n",
              "      <th>Dew_PointC</th>\n",
              "      <th>MeanDew_PointC</th>\n",
              "      <th>Min_DewpointC</th>\n",
              "      <th>Max_Humidity</th>\n",
              "      <th>Mean_Humidity</th>\n",
              "      <th>Min_Humidity</th>\n",
              "      <th>Max_Sea_Level_PressurehPa</th>\n",
              "      <th>Mean_Sea_Level_PressurehPa</th>\n",
              "      <th>Min_Sea_Level_PressurehPa</th>\n",
              "      <th>Max_VisibilityKm</th>\n",
              "      <th>Mean_VisibilityKm</th>\n",
              "      <th>Min_VisibilitykM</th>\n",
              "      <th>Max_Wind_SpeedKm_h</th>\n",
              "      <th>Mean_Wind_SpeedKm_h</th>\n",
              "      <th>Max_Gust_SpeedKm_h</th>\n",
              "      <th>Precipitationmm</th>\n",
              "      <th>CloudCover</th>\n",
              "      <th>WindDirDegrees</th>\n",
              "    </tr>\n",
              "  </thead>\n",
              "  <tbody>\n",
              "    <tr>\n",
              "      <th>count</th>\n",
              "      <td>15840.000000</td>\n",
              "      <td>15840.000000</td>\n",
              "      <td>15840.000000</td>\n",
              "      <td>15840.000000</td>\n",
              "      <td>15840.000000</td>\n",
              "      <td>15840.000000</td>\n",
              "      <td>15840.000000</td>\n",
              "      <td>15840.000000</td>\n",
              "      <td>15840.000000</td>\n",
              "      <td>15840.000000</td>\n",
              "      <td>15840.000000</td>\n",
              "      <td>15840.000000</td>\n",
              "      <td>15459.000000</td>\n",
              "      <td>15459.000000</td>\n",
              "      <td>15459.000000</td>\n",
              "      <td>15840.000000</td>\n",
              "      <td>15840.000000</td>\n",
              "      <td>3604.000000</td>\n",
              "      <td>15840.000000</td>\n",
              "      <td>14667.000000</td>\n",
              "      <td>15840.000000</td>\n",
              "    </tr>\n",
              "    <tr>\n",
              "      <th>mean</th>\n",
              "      <td>14.644129</td>\n",
              "      <td>10.388952</td>\n",
              "      <td>6.198990</td>\n",
              "      <td>8.587816</td>\n",
              "      <td>6.205808</td>\n",
              "      <td>3.626136</td>\n",
              "      <td>93.659596</td>\n",
              "      <td>74.282891</td>\n",
              "      <td>50.158586</td>\n",
              "      <td>1018.532197</td>\n",
              "      <td>1015.299747</td>\n",
              "      <td>1012.307955</td>\n",
              "      <td>24.057572</td>\n",
              "      <td>12.239796</td>\n",
              "      <td>7.025163</td>\n",
              "      <td>22.766604</td>\n",
              "      <td>11.972222</td>\n",
              "      <td>48.864317</td>\n",
              "      <td>0.831718</td>\n",
              "      <td>5.551306</td>\n",
              "      <td>175.896717</td>\n",
              "    </tr>\n",
              "    <tr>\n",
              "      <th>std</th>\n",
              "      <td>8.646012</td>\n",
              "      <td>7.379260</td>\n",
              "      <td>6.526391</td>\n",
              "      <td>6.244780</td>\n",
              "      <td>6.086768</td>\n",
              "      <td>6.128390</td>\n",
              "      <td>7.678530</td>\n",
              "      <td>13.486552</td>\n",
              "      <td>19.960216</td>\n",
              "      <td>7.788720</td>\n",
              "      <td>8.123311</td>\n",
              "      <td>8.600585</td>\n",
              "      <td>8.976799</td>\n",
              "      <td>5.067944</td>\n",
              "      <td>4.980602</td>\n",
              "      <td>8.988618</td>\n",
              "      <td>5.872844</td>\n",
              "      <td>13.026954</td>\n",
              "      <td>2.513506</td>\n",
              "      <td>1.687710</td>\n",
              "      <td>101.588872</td>\n",
              "    </tr>\n",
              "    <tr>\n",
              "      <th>min</th>\n",
              "      <td>-11.000000</td>\n",
              "      <td>-13.000000</td>\n",
              "      <td>-15.000000</td>\n",
              "      <td>-14.000000</td>\n",
              "      <td>-15.000000</td>\n",
              "      <td>-73.000000</td>\n",
              "      <td>44.000000</td>\n",
              "      <td>30.000000</td>\n",
              "      <td>4.000000</td>\n",
              "      <td>976.000000</td>\n",
              "      <td>974.000000</td>\n",
              "      <td>970.000000</td>\n",
              "      <td>0.000000</td>\n",
              "      <td>0.000000</td>\n",
              "      <td>0.000000</td>\n",
              "      <td>3.000000</td>\n",
              "      <td>2.000000</td>\n",
              "      <td>21.000000</td>\n",
              "      <td>0.000000</td>\n",
              "      <td>0.000000</td>\n",
              "      <td>-1.000000</td>\n",
              "    </tr>\n",
              "    <tr>\n",
              "      <th>25%</th>\n",
              "      <td>8.000000</td>\n",
              "      <td>4.000000</td>\n",
              "      <td>1.000000</td>\n",
              "      <td>4.000000</td>\n",
              "      <td>2.000000</td>\n",
              "      <td>-1.000000</td>\n",
              "      <td>90.750000</td>\n",
              "      <td>65.000000</td>\n",
              "      <td>34.000000</td>\n",
              "      <td>1014.000000</td>\n",
              "      <td>1010.000000</td>\n",
              "      <td>1007.000000</td>\n",
              "      <td>14.000000</td>\n",
              "      <td>10.000000</td>\n",
              "      <td>3.000000</td>\n",
              "      <td>16.000000</td>\n",
              "      <td>8.000000</td>\n",
              "      <td>39.000000</td>\n",
              "      <td>0.000000</td>\n",
              "      <td>5.000000</td>\n",
              "      <td>80.000000</td>\n",
              "    </tr>\n",
              "    <tr>\n",
              "      <th>50%</th>\n",
              "      <td>15.000000</td>\n",
              "      <td>11.000000</td>\n",
              "      <td>7.000000</td>\n",
              "      <td>9.000000</td>\n",
              "      <td>7.000000</td>\n",
              "      <td>4.000000</td>\n",
              "      <td>94.000000</td>\n",
              "      <td>76.000000</td>\n",
              "      <td>49.000000</td>\n",
              "      <td>1019.000000</td>\n",
              "      <td>1016.000000</td>\n",
              "      <td>1013.000000</td>\n",
              "      <td>31.000000</td>\n",
              "      <td>11.000000</td>\n",
              "      <td>7.000000</td>\n",
              "      <td>21.000000</td>\n",
              "      <td>11.000000</td>\n",
              "      <td>48.000000</td>\n",
              "      <td>0.000000</td>\n",
              "      <td>6.000000</td>\n",
              "      <td>202.000000</td>\n",
              "    </tr>\n",
              "    <tr>\n",
              "      <th>75%</th>\n",
              "      <td>21.000000</td>\n",
              "      <td>16.000000</td>\n",
              "      <td>11.000000</td>\n",
              "      <td>13.000000</td>\n",
              "      <td>11.000000</td>\n",
              "      <td>8.000000</td>\n",
              "      <td>100.000000</td>\n",
              "      <td>85.000000</td>\n",
              "      <td>66.000000</td>\n",
              "      <td>1024.000000</td>\n",
              "      <td>1021.000000</td>\n",
              "      <td>1018.000000</td>\n",
              "      <td>31.000000</td>\n",
              "      <td>14.000000</td>\n",
              "      <td>10.000000</td>\n",
              "      <td>27.000000</td>\n",
              "      <td>14.000000</td>\n",
              "      <td>55.000000</td>\n",
              "      <td>0.250000</td>\n",
              "      <td>7.000000</td>\n",
              "      <td>256.000000</td>\n",
              "    </tr>\n",
              "    <tr>\n",
              "      <th>max</th>\n",
              "      <td>39.000000</td>\n",
              "      <td>31.000000</td>\n",
              "      <td>24.000000</td>\n",
              "      <td>25.000000</td>\n",
              "      <td>20.000000</td>\n",
              "      <td>19.000000</td>\n",
              "      <td>100.000000</td>\n",
              "      <td>100.000000</td>\n",
              "      <td>100.000000</td>\n",
              "      <td>1043.000000</td>\n",
              "      <td>1040.000000</td>\n",
              "      <td>1038.000000</td>\n",
              "      <td>31.000000</td>\n",
              "      <td>31.000000</td>\n",
              "      <td>31.000000</td>\n",
              "      <td>101.000000</td>\n",
              "      <td>53.000000</td>\n",
              "      <td>111.000000</td>\n",
              "      <td>58.930000</td>\n",
              "      <td>8.000000</td>\n",
              "      <td>360.000000</td>\n",
              "    </tr>\n",
              "  </tbody>\n",
              "</table>\n",
              "</div>"
            ],
            "text/plain": [
              "       Max_TemperatureC  Mean_TemperatureC  ...    CloudCover  WindDirDegrees\n",
              "count      15840.000000       15840.000000  ...  14667.000000    15840.000000\n",
              "mean          14.644129          10.388952  ...      5.551306      175.896717\n",
              "std            8.646012           7.379260  ...      1.687710      101.588872\n",
              "min          -11.000000         -13.000000  ...      0.000000       -1.000000\n",
              "25%            8.000000           4.000000  ...      5.000000       80.000000\n",
              "50%           15.000000          11.000000  ...      6.000000      202.000000\n",
              "75%           21.000000          16.000000  ...      7.000000      256.000000\n",
              "max           39.000000          31.000000  ...      8.000000      360.000000\n",
              "\n",
              "[8 rows x 21 columns]"
            ]
          },
          "metadata": {
            "tags": []
          },
          "execution_count": 47
        }
      ]
    },
    {
      "cell_type": "code",
      "metadata": {
        "id": "q6ujPSg7Bafu",
        "colab": {
          "base_uri": "https://localhost:8080/"
        },
        "outputId": "246d445c-e962-44ab-ebee-3a3d716e74af"
      },
      "source": [
        "weather_df.isna().sum()"
      ],
      "execution_count": 48,
      "outputs": [
        {
          "output_type": "execute_result",
          "data": {
            "text/plain": [
              "Date                              0\n",
              "Max_TemperatureC                  0\n",
              "Mean_TemperatureC                 0\n",
              "Min_TemperatureC                  0\n",
              "Dew_PointC                        0\n",
              "MeanDew_PointC                    0\n",
              "Min_DewpointC                     0\n",
              "Max_Humidity                      0\n",
              "Mean_Humidity                     0\n",
              "Min_Humidity                      0\n",
              "Max_Sea_Level_PressurehPa         0\n",
              "Mean_Sea_Level_PressurehPa        0\n",
              "Min_Sea_Level_PressurehPa         0\n",
              "Max_VisibilityKm                381\n",
              "Mean_VisibilityKm               381\n",
              "Min_VisibilitykM                381\n",
              "Max_Wind_SpeedKm_h                0\n",
              "Mean_Wind_SpeedKm_h               0\n",
              "Max_Gust_SpeedKm_h            12236\n",
              "Precipitationmm                   0\n",
              "CloudCover                     1173\n",
              "Events                         3951\n",
              "WindDirDegrees                    0\n",
              "State                             0\n",
              "dtype: int64"
            ]
          },
          "metadata": {
            "tags": []
          },
          "execution_count": 48
        }
      ]
    },
    {
      "cell_type": "code",
      "metadata": {
        "id": "DkXlOeOyBafw"
      },
      "source": [
        "weather_df=weather_df.bfill()\n",
        "weather_df=weather_df.ffill()"
      ],
      "execution_count": 49,
      "outputs": []
    },
    {
      "cell_type": "code",
      "metadata": {
        "id": "cPlhr5DHBafz"
      },
      "source": [
        "weather_df.Date=pd.to_datetime(weather_df.Date)"
      ],
      "execution_count": 50,
      "outputs": []
    },
    {
      "cell_type": "code",
      "metadata": {
        "colab": {
          "base_uri": "https://localhost:8080/"
        },
        "id": "uUUw1WgNbrWg",
        "outputId": "02953f76-77ca-4385-cbcd-0bda3b1a4344"
      },
      "source": [
        "#encoding the values\n",
        "weather={'Fog':'1','Rain':'2','Hail':'3','Thunderstorm':'4','Snow':'5'}\n",
        "encoding=dict()\n",
        "for t in weather_df['Events']:\n",
        "    j=t\n",
        "    for i in j.split('-'):\n",
        "      j=j.replace(i,weather[i])\n",
        "    \n",
        "    j=j.replace('-','')\n",
        "    encoding[t]=j   \n",
        "#print(encoding)\n",
        "\n",
        "for i in encoding.keys():\n",
        "  weather_df[\"Events\"]=np.where(weather_df[\"Events\"]==i,encoding[i],weather_df[\"Events\"])\n",
        "\n",
        "weather_df[\"Events\"].unique()"
      ],
      "execution_count": 51,
      "outputs": [
        {
          "output_type": "execute_result",
          "data": {
            "text/plain": [
              "array(['2', '5', '15', '1', '25', '24', '254', '125', '53', '12', '124',\n",
              "       '2534', '123', '234', '253', '4', '1234', '23', '14', '1253',\n",
              "       '153'], dtype=object)"
            ]
          },
          "metadata": {
            "tags": []
          },
          "execution_count": 51
        }
      ]
    },
    {
      "cell_type": "code",
      "metadata": {
        "id": "PIoLbmSABaf1"
      },
      "source": [
        "df.to_csv('cleaned_weather.csv') "
      ],
      "execution_count": 52,
      "outputs": []
    },
    {
      "cell_type": "code",
      "metadata": {
        "id": "0kyhq26qBaf2"
      },
      "source": [
        "df= df.merge(weather_df, how='inner', left_on=[\"Date\", \"State\"], right_on=[\"Date\",\"State\"])"
      ],
      "execution_count": 53,
      "outputs": []
    },
    {
      "cell_type": "code",
      "metadata": {
        "id": "hBYPerEmBaf4"
      },
      "source": [
        "df.to_csv('/content/drive/My Drive/Colab Notebooks/data/rossmann-store-sales/final_RossmannSales.csv') "
      ],
      "execution_count": 54,
      "outputs": []
    },
    {
      "cell_type": "markdown",
      "metadata": {
        "id": "gmJxz8GOBaf7"
      },
      "source": [
        "# Final Check"
      ]
    },
    {
      "cell_type": "code",
      "metadata": {
        "id": "yJq3R_chBaf7",
        "colab": {
          "base_uri": "https://localhost:8080/",
          "height": 333
        },
        "outputId": "2d57ee92-9e41-4ecc-decf-c65e50aa6d09"
      },
      "source": [
        "df.head()"
      ],
      "execution_count": 55,
      "outputs": [
        {
          "output_type": "execute_result",
          "data": {
            "text/html": [
              "<div>\n",
              "<style scoped>\n",
              "    .dataframe tbody tr th:only-of-type {\n",
              "        vertical-align: middle;\n",
              "    }\n",
              "\n",
              "    .dataframe tbody tr th {\n",
              "        vertical-align: top;\n",
              "    }\n",
              "\n",
              "    .dataframe thead th {\n",
              "        text-align: right;\n",
              "    }\n",
              "</style>\n",
              "<table border=\"1\" class=\"dataframe\">\n",
              "  <thead>\n",
              "    <tr style=\"text-align: right;\">\n",
              "      <th></th>\n",
              "      <th>Store</th>\n",
              "      <th>StoreType</th>\n",
              "      <th>Assortment</th>\n",
              "      <th>CompetitionDistance</th>\n",
              "      <th>CompetitionOpenSinceMonth</th>\n",
              "      <th>CompetitionOpenSinceYear</th>\n",
              "      <th>Promo2</th>\n",
              "      <th>DayOfWeek</th>\n",
              "      <th>Date</th>\n",
              "      <th>Sales</th>\n",
              "      <th>Customers</th>\n",
              "      <th>Open</th>\n",
              "      <th>Promo</th>\n",
              "      <th>StateHoliday</th>\n",
              "      <th>SchoolHoliday</th>\n",
              "      <th>Year</th>\n",
              "      <th>Month</th>\n",
              "      <th>Day</th>\n",
              "      <th>Week</th>\n",
              "      <th>Season</th>\n",
              "      <th>Holiday per week</th>\n",
              "      <th>Avg CustomersPerMonth</th>\n",
              "      <th>Avg CustomersPerWeek</th>\n",
              "      <th>PromoCountperWeek</th>\n",
              "      <th>CompetitionOpenSince</th>\n",
              "      <th>CompetitionDistanceLOG</th>\n",
              "      <th>State</th>\n",
              "      <th>Max_TemperatureC</th>\n",
              "      <th>Mean_TemperatureC</th>\n",
              "      <th>Min_TemperatureC</th>\n",
              "      <th>Dew_PointC</th>\n",
              "      <th>MeanDew_PointC</th>\n",
              "      <th>Min_DewpointC</th>\n",
              "      <th>Max_Humidity</th>\n",
              "      <th>Mean_Humidity</th>\n",
              "      <th>Min_Humidity</th>\n",
              "      <th>Max_Sea_Level_PressurehPa</th>\n",
              "      <th>Mean_Sea_Level_PressurehPa</th>\n",
              "      <th>Min_Sea_Level_PressurehPa</th>\n",
              "      <th>Max_VisibilityKm</th>\n",
              "      <th>Mean_VisibilityKm</th>\n",
              "      <th>Min_VisibilitykM</th>\n",
              "      <th>Max_Wind_SpeedKm_h</th>\n",
              "      <th>Mean_Wind_SpeedKm_h</th>\n",
              "      <th>Max_Gust_SpeedKm_h</th>\n",
              "      <th>Precipitationmm</th>\n",
              "      <th>CloudCover</th>\n",
              "      <th>Events</th>\n",
              "      <th>WindDirDegrees</th>\n",
              "    </tr>\n",
              "  </thead>\n",
              "  <tbody>\n",
              "    <tr>\n",
              "      <th>0</th>\n",
              "      <td>1</td>\n",
              "      <td>0</td>\n",
              "      <td>0</td>\n",
              "      <td>1270.0</td>\n",
              "      <td>9</td>\n",
              "      <td>2008</td>\n",
              "      <td>0</td>\n",
              "      <td>5</td>\n",
              "      <td>2015-07-31</td>\n",
              "      <td>5263</td>\n",
              "      <td>555</td>\n",
              "      <td>1</td>\n",
              "      <td>1</td>\n",
              "      <td>0</td>\n",
              "      <td>1</td>\n",
              "      <td>2015</td>\n",
              "      <td>7</td>\n",
              "      <td>31</td>\n",
              "      <td>3</td>\n",
              "      <td>0</td>\n",
              "      <td>5</td>\n",
              "      <td>654.703236</td>\n",
              "      <td>701.697758</td>\n",
              "      <td>8</td>\n",
              "      <td>2008-09-01</td>\n",
              "      <td>7.146772</td>\n",
              "      <td>HE</td>\n",
              "      <td>23</td>\n",
              "      <td>16</td>\n",
              "      <td>8</td>\n",
              "      <td>9</td>\n",
              "      <td>6</td>\n",
              "      <td>3</td>\n",
              "      <td>98</td>\n",
              "      <td>54</td>\n",
              "      <td>18</td>\n",
              "      <td>1021</td>\n",
              "      <td>1018</td>\n",
              "      <td>1015</td>\n",
              "      <td>31.0</td>\n",
              "      <td>15.0</td>\n",
              "      <td>10.0</td>\n",
              "      <td>24</td>\n",
              "      <td>11</td>\n",
              "      <td>40.0</td>\n",
              "      <td>0.0</td>\n",
              "      <td>1.0</td>\n",
              "      <td>1</td>\n",
              "      <td>13</td>\n",
              "    </tr>\n",
              "    <tr>\n",
              "      <th>1</th>\n",
              "      <td>56</td>\n",
              "      <td>2</td>\n",
              "      <td>1</td>\n",
              "      <td>6620.0</td>\n",
              "      <td>3</td>\n",
              "      <td>2012</td>\n",
              "      <td>1</td>\n",
              "      <td>5</td>\n",
              "      <td>2015-07-31</td>\n",
              "      <td>10022</td>\n",
              "      <td>619</td>\n",
              "      <td>1</td>\n",
              "      <td>1</td>\n",
              "      <td>0</td>\n",
              "      <td>1</td>\n",
              "      <td>2015</td>\n",
              "      <td>7</td>\n",
              "      <td>31</td>\n",
              "      <td>3</td>\n",
              "      <td>0</td>\n",
              "      <td>5</td>\n",
              "      <td>654.703236</td>\n",
              "      <td>701.697758</td>\n",
              "      <td>8</td>\n",
              "      <td>2012-03-01</td>\n",
              "      <td>8.797851</td>\n",
              "      <td>HE</td>\n",
              "      <td>23</td>\n",
              "      <td>16</td>\n",
              "      <td>8</td>\n",
              "      <td>9</td>\n",
              "      <td>6</td>\n",
              "      <td>3</td>\n",
              "      <td>98</td>\n",
              "      <td>54</td>\n",
              "      <td>18</td>\n",
              "      <td>1021</td>\n",
              "      <td>1018</td>\n",
              "      <td>1015</td>\n",
              "      <td>31.0</td>\n",
              "      <td>15.0</td>\n",
              "      <td>10.0</td>\n",
              "      <td>24</td>\n",
              "      <td>11</td>\n",
              "      <td>40.0</td>\n",
              "      <td>0.0</td>\n",
              "      <td>1.0</td>\n",
              "      <td>1</td>\n",
              "      <td>13</td>\n",
              "    </tr>\n",
              "    <tr>\n",
              "      <th>2</th>\n",
              "      <td>69</td>\n",
              "      <td>0</td>\n",
              "      <td>1</td>\n",
              "      <td>1130.0</td>\n",
              "      <td>1</td>\n",
              "      <td>2013</td>\n",
              "      <td>1</td>\n",
              "      <td>5</td>\n",
              "      <td>2015-07-31</td>\n",
              "      <td>11204</td>\n",
              "      <td>1371</td>\n",
              "      <td>1</td>\n",
              "      <td>1</td>\n",
              "      <td>0</td>\n",
              "      <td>1</td>\n",
              "      <td>2015</td>\n",
              "      <td>7</td>\n",
              "      <td>31</td>\n",
              "      <td>3</td>\n",
              "      <td>0</td>\n",
              "      <td>5</td>\n",
              "      <td>654.703236</td>\n",
              "      <td>701.697758</td>\n",
              "      <td>8</td>\n",
              "      <td>2013-01-01</td>\n",
              "      <td>7.029973</td>\n",
              "      <td>HE</td>\n",
              "      <td>23</td>\n",
              "      <td>16</td>\n",
              "      <td>8</td>\n",
              "      <td>9</td>\n",
              "      <td>6</td>\n",
              "      <td>3</td>\n",
              "      <td>98</td>\n",
              "      <td>54</td>\n",
              "      <td>18</td>\n",
              "      <td>1021</td>\n",
              "      <td>1018</td>\n",
              "      <td>1015</td>\n",
              "      <td>31.0</td>\n",
              "      <td>15.0</td>\n",
              "      <td>10.0</td>\n",
              "      <td>24</td>\n",
              "      <td>11</td>\n",
              "      <td>40.0</td>\n",
              "      <td>0.0</td>\n",
              "      <td>1.0</td>\n",
              "      <td>1</td>\n",
              "      <td>13</td>\n",
              "    </tr>\n",
              "    <tr>\n",
              "      <th>3</th>\n",
              "      <td>77</td>\n",
              "      <td>2</td>\n",
              "      <td>1</td>\n",
              "      <td>1090.0</td>\n",
              "      <td>8</td>\n",
              "      <td>2009</td>\n",
              "      <td>1</td>\n",
              "      <td>5</td>\n",
              "      <td>2015-07-31</td>\n",
              "      <td>10335</td>\n",
              "      <td>780</td>\n",
              "      <td>1</td>\n",
              "      <td>1</td>\n",
              "      <td>0</td>\n",
              "      <td>1</td>\n",
              "      <td>2015</td>\n",
              "      <td>7</td>\n",
              "      <td>31</td>\n",
              "      <td>3</td>\n",
              "      <td>0</td>\n",
              "      <td>5</td>\n",
              "      <td>654.703236</td>\n",
              "      <td>701.697758</td>\n",
              "      <td>8</td>\n",
              "      <td>2009-08-01</td>\n",
              "      <td>6.993933</td>\n",
              "      <td>HE</td>\n",
              "      <td>23</td>\n",
              "      <td>16</td>\n",
              "      <td>8</td>\n",
              "      <td>9</td>\n",
              "      <td>6</td>\n",
              "      <td>3</td>\n",
              "      <td>98</td>\n",
              "      <td>54</td>\n",
              "      <td>18</td>\n",
              "      <td>1021</td>\n",
              "      <td>1018</td>\n",
              "      <td>1015</td>\n",
              "      <td>31.0</td>\n",
              "      <td>15.0</td>\n",
              "      <td>10.0</td>\n",
              "      <td>24</td>\n",
              "      <td>11</td>\n",
              "      <td>40.0</td>\n",
              "      <td>0.0</td>\n",
              "      <td>1.0</td>\n",
              "      <td>1</td>\n",
              "      <td>13</td>\n",
              "    </tr>\n",
              "    <tr>\n",
              "      <th>4</th>\n",
              "      <td>111</td>\n",
              "      <td>2</td>\n",
              "      <td>1</td>\n",
              "      <td>7890.0</td>\n",
              "      <td>1</td>\n",
              "      <td>2013</td>\n",
              "      <td>1</td>\n",
              "      <td>5</td>\n",
              "      <td>2015-07-31</td>\n",
              "      <td>8897</td>\n",
              "      <td>698</td>\n",
              "      <td>1</td>\n",
              "      <td>1</td>\n",
              "      <td>0</td>\n",
              "      <td>1</td>\n",
              "      <td>2015</td>\n",
              "      <td>7</td>\n",
              "      <td>31</td>\n",
              "      <td>3</td>\n",
              "      <td>0</td>\n",
              "      <td>5</td>\n",
              "      <td>654.703236</td>\n",
              "      <td>701.697758</td>\n",
              "      <td>8</td>\n",
              "      <td>2013-01-01</td>\n",
              "      <td>8.973351</td>\n",
              "      <td>HE</td>\n",
              "      <td>23</td>\n",
              "      <td>16</td>\n",
              "      <td>8</td>\n",
              "      <td>9</td>\n",
              "      <td>6</td>\n",
              "      <td>3</td>\n",
              "      <td>98</td>\n",
              "      <td>54</td>\n",
              "      <td>18</td>\n",
              "      <td>1021</td>\n",
              "      <td>1018</td>\n",
              "      <td>1015</td>\n",
              "      <td>31.0</td>\n",
              "      <td>15.0</td>\n",
              "      <td>10.0</td>\n",
              "      <td>24</td>\n",
              "      <td>11</td>\n",
              "      <td>40.0</td>\n",
              "      <td>0.0</td>\n",
              "      <td>1.0</td>\n",
              "      <td>1</td>\n",
              "      <td>13</td>\n",
              "    </tr>\n",
              "  </tbody>\n",
              "</table>\n",
              "</div>"
            ],
            "text/plain": [
              "   Store  StoreType  Assortment  ...  CloudCover  Events  WindDirDegrees\n",
              "0      1          0           0  ...         1.0       1              13\n",
              "1     56          2           1  ...         1.0       1              13\n",
              "2     69          0           1  ...         1.0       1              13\n",
              "3     77          2           1  ...         1.0       1              13\n",
              "4    111          2           1  ...         1.0       1              13\n",
              "\n",
              "[5 rows x 49 columns]"
            ]
          },
          "metadata": {
            "tags": []
          },
          "execution_count": 55
        }
      ]
    },
    {
      "cell_type": "code",
      "metadata": {
        "id": "sWqs8ebGBaf9",
        "colab": {
          "base_uri": "https://localhost:8080/",
          "height": 1000
        },
        "outputId": "d1ba71ca-7d59-48e8-f971-4c4fe5b11c36"
      },
      "source": [
        "#Find Correlation between the data columns\n",
        "plt.figure(figsize=(15,15))\n",
        "sns.heatmap((df.corr()))"
      ],
      "execution_count": 56,
      "outputs": [
        {
          "output_type": "execute_result",
          "data": {
            "text/plain": [
              "<matplotlib.axes._subplots.AxesSubplot at 0x7ff71ee058d0>"
            ]
          },
          "metadata": {
            "tags": []
          },
          "execution_count": 56
        },
        {
          "output_type": "display_data",
          "data": {
            "image/png": "[encoded data removed]",
            "text/plain": [
              "<Figure size 1080x1080 with 2 Axes>"
            ]
          },
          "metadata": {
            "tags": []
          }
        }
      ]
    },
    {
      "cell_type": "markdown",
      "metadata": {
        "id": "bvPeGTLyBaf-"
      },
      "source": [
        "the heatmap shows all our hypothesis were true, there is very little correlation between School Holiday, Customers and Promo, but there is a strong correlation between Promo and Sales"
      ]
    }
  ]
}